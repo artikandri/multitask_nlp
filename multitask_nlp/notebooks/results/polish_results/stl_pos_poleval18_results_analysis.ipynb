{
 "cells": [
  {
   "cell_type": "code",
   "execution_count": 1,
   "id": "32e5c3e0",
   "metadata": {},
   "outputs": [],
   "source": [
    "%load_ext autoreload\n",
    "%autoreload 2\n",
    "\n",
    "from collections import defaultdict\n",
    "from itertools import product\n",
    "from dataclasses import dataclass\n",
    "import os\n",
    "import math\n",
    "import sys\n",
    "from typing import Dict, Any, List, Optional\n",
    "sys.path.append('../../../../')\n",
    "\n",
    "import matplotlib.pyplot as plt\n",
    "import matplotlib.ticker as mtick\n",
    "import seaborn as sns\n",
    "import numpy as np\n",
    "import pandas as pd\n",
    "\n",
    "from matplotlib.ticker import FuncFormatter\n",
    "\n",
    "\n",
    "from multitask_nlp.utils.plotting import Task, get_overall_score\n",
    "\n",
    "color_pallette = 'muted'\n",
    "sns.set_theme(style='whitegrid', context='talk', palette=color_pallette, \n",
    "              rc={'font.family': 'serif', 'font.serif': 'Times New Roman', 'mathtext.fontset': 'dejavuserif'})\n",
    "\n",
    "tasks = [\n",
    "    Task(name='PolEval18_POS', measure='accuracy_pos', \n",
    "         measure_name='Accuracy', size=25267)\n",
    "]\n",
    "\n",
    "cols_to_display = ['dataset', 'learning_kind', 'model_name', 'model_type', 'type', 'overall_score']"
   ]
  },
  {
   "cell_type": "code",
   "execution_count": 2,
   "id": "7fb24882",
   "metadata": {},
   "outputs": [],
   "source": [
    "def get_type(row):\n",
    "    ttype = row['learning_kind']\n",
    "    return ttype\n",
    "\n",
    "def load_results_df(file_path: str):\n",
    "    df = pd.read_csv(file_path)\n",
    "    df['type'] = df.apply(lambda x: get_type(x), axis=1)\n",
    "    df['overall_score'] = df.apply(lambda x: get_overall_score(x, tasks=tasks), axis=1)\n",
    "    return df"
   ]
  },
  {
   "cell_type": "code",
   "execution_count": 4,
   "id": "6a9aacdf",
   "metadata": {},
   "outputs": [],
   "source": [
    "def visualize_boxplot_paper(\n",
    "    df: pd.DataFrame, legend_labels: Optional[List[str]] = None, cols=2,\n",
    "    suptitle: str = '', bbox_to_anchor = (1.0, 1.0), loc=2, ncol=1, fig_legend=True,\n",
    "    order=None, steps=True, runtimes=True, epochs=False, **kwargs\n",
    "):  \n",
    "    row_height = 5\n",
    "    fig_width = 14\n",
    "    \n",
    "    additional_plots_prop = []\n",
    "    if runtimes:\n",
    "        additional_plots_prop.append(('Runtime', 'Runtime [s]'))\n",
    "    if steps:\n",
    "        additional_plots_prop.append(('trainer/global_step', 'Steps'))\n",
    "    if epochs:\n",
    "        additional_plots_prop.append(('epoch', 'Epochs'))\n",
    "        \n",
    "    rows = math.ceil((len(tasks) * (1+len(additional_plots_prop))) / cols)\n",
    "    \n",
    "    if order is None:\n",
    "        types = df['type'].unique()\n",
    "        types = sorted(types, key=len)\n",
    "    else:\n",
    "        types = order\n",
    "    \n",
    "    x_ticks_labels = []\n",
    "    for t in types:\n",
    "        split_t_string = t.split('_')\n",
    "        t_string = split_t_string[0]\n",
    "        if len(split_t_string) > 1:\n",
    "            t_string += '\\n' + '\\n'.join(split_t_string[1:])\n",
    "        x_ticks_labels.append(t_string)\n",
    "\n",
    "    fig, axis = plt.subplots(rows, cols, figsize=(fig_width, rows*row_height), constrained_layout=True)\n",
    "    if rows * cols == 1:\n",
    "        axis = [axis]\n",
    "    else:\n",
    "        axis = axis.flatten()\n",
    "                \n",
    "    for task, ax in zip(tasks, axis):\n",
    "        sns.boxplot(x='type', y=f'{task.name}_test_{task.measure}', order=types, ax=ax, data=df, **kwargs)\n",
    "        ax.set_xticklabels(x_ticks_labels)           \n",
    "        ax.set_xlabel(None)\n",
    "        ax.set_ylabel(task.measure_name)\n",
    "        \n",
    "        title = task.name + ' - ' + human_format(task.size)       \n",
    "        ax.set_title(title)\n",
    "        \n",
    "        handles, labels = ax.get_legend_handles_labels()\n",
    "        if ax.get_legend():\n",
    "            legend_title = ax.get_legend().get_title().get_text().replace('_', ' ').capitalize()\n",
    "            ax.get_legend().remove()\n",
    "            if not fig_legend:\n",
    "                ax.legend(handles, labels, title=legend_title, bbox_to_anchor=bbox_to_anchor, loc=loc, ncol=ncol)\n",
    "\n",
    "\n",
    "    if fig_legend and len(handles) > 0: \n",
    "        fig.legend(handles, labels, title=legend_title, bbox_to_anchor=bbox_to_anchor, loc=loc, ncol=ncol)\n",
    "        \n",
    "    if 'hue' in kwargs:\n",
    "        hue = kwargs['hue']\n",
    "    else:\n",
    "        hue = None\n",
    "        \n",
    "    if 'hue_order' in kwargs:\n",
    "        hue_order = kwargs['hue_order']\n",
    "    else:\n",
    "        hue_order = None\n",
    "    \n",
    "    for i, (column_name, ylabel) in enumerate(additional_plots_prop):\n",
    "                \n",
    "        for task, ax in zip(tasks, axis[len(tasks) * (1+i):]):\n",
    "            displ_df = df.dropna(subset=['dataset'])\n",
    "            displ_df = displ_df[displ_df['dataset'].str.contains(task.name)]\n",
    "            sns.barplot(x='type', y=column_name, order=types, ax=ax, data=displ_df, edgecolor='black', \n",
    "                        hue=hue, hue_order=hue_order)\n",
    "            ax.set_xticklabels(x_ticks_labels)   \n",
    "            ax.set_ylabel(ylabel)\n",
    "            ax.set_xlabel(None)\n",
    "            title = task.name + ' - ' + human_format(task.size)       \n",
    "            ax.set_title(title)\n",
    "            \n",
    "            handles, labels = ax.get_legend_handles_labels()\n",
    "            if ax.get_legend():\n",
    "                legend_title = ax.get_legend().get_title().get_text().replace('_', ' ').capitalize()\n",
    "                ax.get_legend().remove()\n",
    "                if not fig_legend:\n",
    "                    ax.legend(handles, labels, title=legend_title, bbox_to_anchor=bbox_to_anchor, loc=loc, ncol=ncol)\n",
    "\n",
    "        if fig_legend and len(handles) > 0: \n",
    "            fig.legend(handles, labels, title=legend_title, bbox_to_anchor=bbox_to_anchor, loc=loc, ncol=ncol)  \n",
    "\n",
    "#     for ax in axis[len(tasks):]:\n",
    "#         ax.axis('off')    \n",
    "    sns.despine(fig)\n",
    "\n",
    "def human_format(num):\n",
    "    magnitude = 0\n",
    "    while abs(num) >= 1000:\n",
    "        magnitude += 1\n",
    "        num /= 1000.0\n",
    "    # add more suffixes if you need them\n",
    "    return '%.1f%s' % (num, ['', 'K', 'M', 'G', 'T', 'P'][magnitude])"
   ]
  },
  {
   "cell_type": "code",
   "execution_count": 5,
   "id": "6de0efff",
   "metadata": {},
   "outputs": [],
   "source": [
    "def get_model_kind(r):\n",
    "    kind = r['model_name']        \n",
    "    return kind"
   ]
  },
  {
   "cell_type": "markdown",
   "id": "5abf30e9",
   "metadata": {},
   "source": [
    "# Eksperymenty 1\n",
    "\n",
    "- Powtórzenia: 3\n",
    "- Liczba Epok: 8\n",
    "- Learning rate: 1e-4\n",
    "- Max length: 256\n",
    "- Batch size: 32"
   ]
  },
  {
   "cell_type": "code",
   "execution_count": 6,
   "id": "0f3d532d",
   "metadata": {},
   "outputs": [],
   "source": [
    "df = load_results_df('stl_pos_poleval18_results.csv')\n",
    "df['model_kind'] = df.apply(lambda r: get_model_kind(r), axis=1)"
   ]
  },
  {
   "cell_type": "code",
   "execution_count": 7,
   "id": "0e679b73",
   "metadata": {},
   "outputs": [],
   "source": [
    "# df"
   ]
  },
  {
   "cell_type": "code",
   "execution_count": 8,
   "id": "ff1b4c0a",
   "metadata": {
    "scrolled": false
   },
   "outputs": [
    {
     "data": {
      "text/plain": [
       "polish-roberta          3\n",
       "polish-distilroberta    3\n",
       "Name: model_kind, dtype: int64"
      ]
     },
     "execution_count": 8,
     "metadata": {},
     "output_type": "execute_result"
    }
   ],
   "source": [
    "# with pd.option_context('display.max_rows', None):\n",
    "#     display(df[cols_to_display + ['model_kind']])\n",
    "# with pd.option_context('display.max_rows', None):\n",
    "#     display(df[['dataset', 'type', 'scale_class_loss', 'epoch', 'num_epochs', 'trainer/global_step', 'Runtime']])\n",
    "df['model_kind'].unique()\n",
    "df['model_kind'].value_counts()"
   ]
  },
  {
   "cell_type": "code",
   "execution_count": 9,
   "id": "8262a1e2",
   "metadata": {},
   "outputs": [],
   "source": [
    "# df.columns.values"
   ]
  },
  {
   "cell_type": "code",
   "execution_count": 10,
   "id": "8cc4eb07",
   "metadata": {},
   "outputs": [
    {
     "data": {
      "text/plain": [
       "array(['STL'], dtype=object)"
      ]
     },
     "execution_count": 10,
     "metadata": {},
     "output_type": "execute_result"
    }
   ],
   "source": [
    "df['type'].unique()"
   ]
  },
  {
   "cell_type": "code",
   "execution_count": 11,
   "id": "558dec6b",
   "metadata": {
    "scrolled": false
   },
   "outputs": [
    {
     "data": {
      "image/png": "[encoded data removed]",
      "text/plain": [
       "<Figure size 1008x360 with 3 Axes>"
      ]
     },
     "metadata": {
      "needs_background": "light"
     },
     "output_type": "display_data"
    }
   ],
   "source": [
    "hue_order = ['polish-roberta', 'polish-distilroberta']\n",
    "visualize_boxplot_paper(\n",
    "    df, cols=3,\n",
    "    showfliers=True, linewidth=1.2,\n",
    "    hue='model_kind', \n",
    "    hue_order=hue_order,\n",
    "    ncol=1, loc='center', bbox_to_anchor=(0.5, -0.3), fig_legend=False,\n",
    "    runtimes=True, steps=True \n",
    ")"
   ]
  }
 ],
 "metadata": {
  "kernelspec": {
   "display_name": "Python 3 (ipykernel)",
   "language": "python",
   "name": "python3"
  },
  "language_info": {
   "codemirror_mode": {
    "name": "ipython",
    "version": 3
   },
   "file_extension": ".py",
   "mimetype": "text/x-python",
   "name": "python",
   "nbconvert_exporter": "python",
   "pygments_lexer": "ipython3",
   "version": "3.8.7"
  }
 },
 "nbformat": 4,
 "nbformat_minor": 5
}
