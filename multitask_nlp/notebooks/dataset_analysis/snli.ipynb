{
 "cells": [
  {
   "cell_type": "markdown",
   "id": "36556638",
   "metadata": {},
   "source": [
    "# SNLI\n",
    "\n",
    "Creating `text_data.csv` and `annotations.csv` for SNLI dataset."
   ]
  },
  {
   "cell_type": "code",
   "execution_count": 11,
   "id": "0c682e4c",
   "metadata": {},
   "outputs": [
    {
     "name": "stdout",
     "output_type": "stream",
     "text": [
      "The autoreload extension is already loaded. To reload it, use:\n",
      "  %reload_ext autoreload\n"
     ]
    }
   ],
   "source": [
    "%load_ext autoreload\n",
    "%autoreload 2\n",
    "\n",
    "import sys\n",
    "sys.path.append('../../../')\n",
    "\n",
    "import os\n",
    "import json\n",
    "import math\n",
    "import sys\n",
    "from collections import defaultdict\n",
    "\n",
    "from typing import List, Optional, Union, Dict\n",
    "\n",
    "import numpy as np\n",
    "import pandas as pd\n",
    "import seaborn as sns \n",
    "import matplotlib.pyplot as plt\n",
    "import matplotlib.ticker as mtick\n",
    "from transformers import AutoTokenizer, BatchEncoding, PreTrainedTokenizerBase\n",
    "\n",
    "from multitask_nlp.settings import DATASETS_DIR\n",
    "\n",
    "dataset_path = DATASETS_DIR / 'snli'\n",
    "\n",
    "\n",
    "color_pallette = 'muted'\n",
    "sns.set_theme(style='whitegrid', font_scale=2, palette=color_pallette, \n",
    "              rc={'font.family': 'serif', 'font.serif': 'Times New Roman', 'mathtext.fontset': 'dejavuserif'})\n",
    "\n",
    "DEFAULT_RANDOM = 42"
   ]
  },
  {
   "cell_type": "code",
   "execution_count": 2,
   "id": "ee2646a0",
   "metadata": {},
   "outputs": [],
   "source": [
    "df_list = []\n",
    "\n",
    "for split in ['train', 'dev', 'test']:\n",
    "    df = pd.read_json(dataset_path / f'snli_1.0_{split}.jsonl', lines=True)\n",
    "    df = df.drop(columns=['annotator_labels', 'captionID', 'pairID', 'sentence1_binary_parse', 'sentence1_parse',\n",
    "                           'sentence2_binary_parse', 'sentence2_parse'])\n",
    "    df['text_id'] = f'{split}_' + df.index.astype(str) \n",
    "    df = df.rename(columns={'gold_label': 'label'})\n",
    "    df = df[~(df['label'] == '-')]\n",
    "    df['split'] = split\n",
    "    df_list.append(df)"
   ]
  },
  {
   "cell_type": "code",
   "execution_count": 3,
   "id": "1c3a0062",
   "metadata": {},
   "outputs": [],
   "source": [
    "df = pd.concat(df_list, ignore_index=False)"
   ]
  },
  {
   "cell_type": "code",
   "execution_count": 4,
   "id": "a3b2cb0a",
   "metadata": {},
   "outputs": [
    {
     "name": "stdout",
     "output_type": "stream",
     "text": [
      "<class 'pandas.core.frame.DataFrame'>\n",
      "Int64Index: 569033 entries, 0 to 9999\n",
      "Data columns (total 5 columns):\n",
      " #   Column     Non-Null Count   Dtype \n",
      "---  ------     --------------   ----- \n",
      " 0   label      569033 non-null  object\n",
      " 1   sentence1  569033 non-null  object\n",
      " 2   sentence2  569033 non-null  object\n",
      " 3   text_id    569033 non-null  object\n",
      " 4   split      569033 non-null  object\n",
      "dtypes: object(5)\n",
      "memory usage: 26.0+ MB\n"
     ]
    }
   ],
   "source": [
    "df.info()"
   ]
  },
  {
   "cell_type": "code",
   "execution_count": 28,
   "id": "c59a26b9",
   "metadata": {},
   "outputs": [],
   "source": [
    "df = df[~(df.sentence2.isin(['N/A','n/a']))]"
   ]
  },
  {
   "cell_type": "code",
   "execution_count": 29,
   "id": "f0c0d9f5",
   "metadata": {},
   "outputs": [
    {
     "name": "stderr",
     "output_type": "stream",
     "text": [
      "C:\\Users\\wojte\\AppData\\Local\\Temp\\ipykernel_24424\\3791037628.py:3: SettingWithCopyWarning: \n",
      "A value is trying to be set on a copy of a slice from a DataFrame.\n",
      "Try using .loc[row_indexer,col_indexer] = value instead\n",
      "\n",
      "See the caveats in the documentation: https://pandas.pydata.org/pandas-docs/stable/user_guide/indexing.html#returning-a-view-versus-a-copy\n",
      "  annotations_df['annotator_id'] = 0\n"
     ]
    }
   ],
   "source": [
    "texts_df = df[['text_id', 'sentence1', 'sentence2', 'split']]\n",
    "annotations_df = df[['text_id', 'label']]\n",
    "annotations_df['annotator_id'] = 0\n",
    "\n",
    "texts_df.to_csv(dataset_path / f'text_data.csv', index=False)\n",
    "annotations_df.to_csv(dataset_path / f'annotations.csv', index=False)"
   ]
  }
 ],
 "metadata": {
  "kernelspec": {
   "display_name": "Python 3 (ipykernel)",
   "language": "python",
   "name": "python3"
  },
  "language_info": {
   "codemirror_mode": {
    "name": "ipython",
    "version": 3
   },
   "file_extension": ".py",
   "mimetype": "text/x-python",
   "name": "python",
   "nbconvert_exporter": "python",
   "pygments_lexer": "ipython3",
   "version": "3.8.7"
  }
 },
 "nbformat": 4,
 "nbformat_minor": 5
}
