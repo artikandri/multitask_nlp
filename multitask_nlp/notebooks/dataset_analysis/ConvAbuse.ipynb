{
 "cells": [
  {
   "cell_type": "markdown",
   "id": "032ca836",
   "metadata": {},
   "source": [
    "# ConvAbuse\n",
    "\n",
    "Creating data files with texts and annotations from raw data."
   ]
  },
  {
   "cell_type": "code",
   "execution_count": 2,
   "id": "5fb014ca",
   "metadata": {},
   "outputs": [
    {
     "name": "stdout",
     "output_type": "stream",
     "text": [
      "The autoreload extension is already loaded. To reload it, use:\n",
      "  %reload_ext autoreload\n"
     ]
    }
   ],
   "source": [
    "%load_ext autoreload\n",
    "%autoreload 2\n",
    "\n",
    "import os\n",
    "import sys\n",
    "sys.path.append('../../../')\n",
    "\n",
    "import matplotlib.pyplot as plt\n",
    "import seaborn as sns\n",
    "import numpy as np\n",
    "import pandas as pd\n",
    "from tqdm.auto import tqdm\n",
    "\n",
    "from datasets import load_dataset\n",
    "from multitask_nlp.settings import DATASETS_DIR\n",
    "\n",
    "tqdm.pandas()\n",
    "\n",
    "dataset_path = DATASETS_DIR / 'convabuse'\n",
    "abuse_values = [1, 0, -1, -2, -3]"
   ]
  },
  {
   "cell_type": "code",
   "execution_count": 3,
   "id": "5503f12a",
   "metadata": {},
   "outputs": [],
   "source": [
    "def load_df(split: str, drop_incorrect_rows: bool):\n",
    "    df = pd.read_csv(dataset_path / '2_splits'/ f'ConvAbuseEMNLP{split}.csv')\n",
    "    \n",
    "    df = df.astype({'example_id': 'int64'})  \n",
    "\n",
    "    if drop_incorrect_rows:\n",
    "        annot_columns = [f'Annotator{i+1}_is_abuse.{value}' for value in abuse_values for i in range(8)]\n",
    "        index_to_drop = []\n",
    "        for i, row in df.iterrows():\n",
    "            for c in annot_columns:\n",
    "                if row[c] not in ['0', '1', np.nan]:\n",
    "                    index_to_drop.append(i)\n",
    "                    break\n",
    "\n",
    "        df = df.drop(index_to_drop).reset_index(drop=False)\n",
    "        df = df.astype({c: 'float64' for c in annot_columns})\n",
    "        \n",
    "    return df"
   ]
  },
  {
   "cell_type": "code",
   "execution_count": 4,
   "id": "5a775a10",
   "metadata": {},
   "outputs": [],
   "source": [
    "for split in ['train', 'valid', 'test']:\n",
    "    df = load_df(split, drop_incorrect_rows=False)\n",
    "    \n",
    "    texts_df = df[['example_id', 'prev_agent', 'prev_user', 'agent', 'user']]\n",
    "    texts_df = texts_df.rename(columns={'example_id': 'text_id'})\n",
    "    texts_df = texts_df.drop_duplicates()\n",
    "\n",
    "    major_voting_records = []\n",
    "\n",
    "    for i, row in df.iterrows():\n",
    "        text_id = row.example_id\n",
    "        mv_is_abuse = row.is_abuse_majority\n",
    "        major_voting_records.append({\n",
    "            'text_id': text_id,\n",
    "            'is_abuse': mv_is_abuse\n",
    "        })\n",
    "                        \n",
    "    major_voting_df = pd.DataFrame.from_records(major_voting_records)\n",
    "\n",
    "    texts_df.to_csv(dataset_path / f'text_data_{split}.csv', index=False)\n",
    "    major_voting_df.to_csv(dataset_path / f'binary_abuse_mv_{split}.csv', index=False)\n",
    "       \n",
    "\n",
    "for split in ['train', 'valid', 'test']:\n",
    "    df = load_df(split, drop_incorrect_rows=True)\n",
    "       \n",
    "    annotations_records = []\n",
    "\n",
    "    for i, row in df.iterrows():\n",
    "        text_id = row.example_id\n",
    "        for i in range(8):\n",
    "            annotator_id = i+1\n",
    "            annotations = [row[f'Annotator{annotator_id}_is_abuse.{value}'] for value in abuse_values]    \n",
    "            if all([not np.isnan(a) for a in annotations]):\n",
    "                for value, annotation in zip(abuse_values, annotations):\n",
    "                    if annotation == 1:\n",
    "                        annotations_records.append({\n",
    "                            'text_id': text_id,\n",
    "                            'annotator_id': annotator_id,\n",
    "                            'is_abuse': value\n",
    "                        })\n",
    "                        break\n",
    "                        \n",
    "    annotations_df = pd.DataFrame.from_records(annotations_records)\n",
    "    annotations_df.to_csv(dataset_path / f'annotations_{split}.csv', index=False)\n",
    "         "
   ]
  },
  {
   "cell_type": "code",
   "execution_count": 5,
   "id": "2aa713c8",
   "metadata": {},
   "outputs": [
    {
     "data": {
      "text/html": [
       "<div>\n",
       "<style scoped>\n",
       "    .dataframe tbody tr th:only-of-type {\n",
       "        vertical-align: middle;\n",
       "    }\n",
       "\n",
       "    .dataframe tbody tr th {\n",
       "        vertical-align: top;\n",
       "    }\n",
       "\n",
       "    .dataframe thead th {\n",
       "        text-align: right;\n",
       "    }\n",
       "</style>\n",
       "<table border=\"1\" class=\"dataframe\">\n",
       "  <thead>\n",
       "    <tr style=\"text-align: right;\">\n",
       "      <th></th>\n",
       "      <th>text_id</th>\n",
       "      <th>is_abuse</th>\n",
       "    </tr>\n",
       "  </thead>\n",
       "  <tbody>\n",
       "    <tr>\n",
       "      <th>0</th>\n",
       "      <td>278</td>\n",
       "      <td>0</td>\n",
       "    </tr>\n",
       "    <tr>\n",
       "      <th>1</th>\n",
       "      <td>2626</td>\n",
       "      <td>0</td>\n",
       "    </tr>\n",
       "    <tr>\n",
       "      <th>2</th>\n",
       "      <td>1843</td>\n",
       "      <td>0</td>\n",
       "    </tr>\n",
       "    <tr>\n",
       "      <th>3</th>\n",
       "      <td>2102</td>\n",
       "      <td>0</td>\n",
       "    </tr>\n",
       "    <tr>\n",
       "      <th>4</th>\n",
       "      <td>2440</td>\n",
       "      <td>0</td>\n",
       "    </tr>\n",
       "    <tr>\n",
       "      <th>...</th>\n",
       "      <td>...</td>\n",
       "      <td>...</td>\n",
       "    </tr>\n",
       "    <tr>\n",
       "      <th>848</th>\n",
       "      <td>3420</td>\n",
       "      <td>0</td>\n",
       "    </tr>\n",
       "    <tr>\n",
       "      <th>849</th>\n",
       "      <td>2122</td>\n",
       "      <td>0</td>\n",
       "    </tr>\n",
       "    <tr>\n",
       "      <th>850</th>\n",
       "      <td>999</td>\n",
       "      <td>0</td>\n",
       "    </tr>\n",
       "    <tr>\n",
       "      <th>851</th>\n",
       "      <td>1223</td>\n",
       "      <td>0</td>\n",
       "    </tr>\n",
       "    <tr>\n",
       "      <th>852</th>\n",
       "      <td>1918</td>\n",
       "      <td>0</td>\n",
       "    </tr>\n",
       "  </tbody>\n",
       "</table>\n",
       "<p>4185 rows × 2 columns</p>\n",
       "</div>"
      ],
      "text/plain": [
       "     text_id  is_abuse\n",
       "0        278         0\n",
       "1       2626         0\n",
       "2       1843         0\n",
       "3       2102         0\n",
       "4       2440         0\n",
       "..       ...       ...\n",
       "848     3420         0\n",
       "849     2122         0\n",
       "850      999         0\n",
       "851     1223         0\n",
       "852     1918         0\n",
       "\n",
       "[4185 rows x 2 columns]"
      ]
     },
     "execution_count": 5,
     "metadata": {},
     "output_type": "execute_result"
    }
   ],
   "source": [
    "df_annot_mv = pd.concat([pd.read_csv(dataset_path / f'binary_abuse_mv_{split}.csv') for split in ['train', 'valid', 'test']])\n",
    "df_annot_mv"
   ]
  },
  {
   "cell_type": "code",
   "execution_count": 6,
   "id": "211e3ea4",
   "metadata": {},
   "outputs": [
    {
     "data": {
      "text/html": [
       "<div>\n",
       "<style scoped>\n",
       "    .dataframe tbody tr th:only-of-type {\n",
       "        vertical-align: middle;\n",
       "    }\n",
       "\n",
       "    .dataframe tbody tr th {\n",
       "        vertical-align: top;\n",
       "    }\n",
       "\n",
       "    .dataframe thead th {\n",
       "        text-align: right;\n",
       "    }\n",
       "</style>\n",
       "<table border=\"1\" class=\"dataframe\">\n",
       "  <thead>\n",
       "    <tr style=\"text-align: right;\">\n",
       "      <th></th>\n",
       "      <th>text_id</th>\n",
       "      <th>annotator_id</th>\n",
       "      <th>is_abuse</th>\n",
       "    </tr>\n",
       "  </thead>\n",
       "  <tbody>\n",
       "    <tr>\n",
       "      <th>0</th>\n",
       "      <td>278</td>\n",
       "      <td>2</td>\n",
       "      <td>1</td>\n",
       "    </tr>\n",
       "    <tr>\n",
       "      <th>1</th>\n",
       "      <td>278</td>\n",
       "      <td>3</td>\n",
       "      <td>1</td>\n",
       "    </tr>\n",
       "    <tr>\n",
       "      <th>2</th>\n",
       "      <td>278</td>\n",
       "      <td>7</td>\n",
       "      <td>1</td>\n",
       "    </tr>\n",
       "    <tr>\n",
       "      <th>3</th>\n",
       "      <td>2626</td>\n",
       "      <td>3</td>\n",
       "      <td>1</td>\n",
       "    </tr>\n",
       "    <tr>\n",
       "      <th>4</th>\n",
       "      <td>2626</td>\n",
       "      <td>7</td>\n",
       "      <td>1</td>\n",
       "    </tr>\n",
       "    <tr>\n",
       "      <th>...</th>\n",
       "      <td>...</td>\n",
       "      <td>...</td>\n",
       "      <td>...</td>\n",
       "    </tr>\n",
       "    <tr>\n",
       "      <th>1801</th>\n",
       "      <td>2122</td>\n",
       "      <td>4</td>\n",
       "      <td>1</td>\n",
       "    </tr>\n",
       "    <tr>\n",
       "      <th>1802</th>\n",
       "      <td>2122</td>\n",
       "      <td>6</td>\n",
       "      <td>-1</td>\n",
       "    </tr>\n",
       "    <tr>\n",
       "      <th>1803</th>\n",
       "      <td>2122</td>\n",
       "      <td>8</td>\n",
       "      <td>1</td>\n",
       "    </tr>\n",
       "    <tr>\n",
       "      <th>1804</th>\n",
       "      <td>1918</td>\n",
       "      <td>1</td>\n",
       "      <td>-1</td>\n",
       "    </tr>\n",
       "    <tr>\n",
       "      <th>1805</th>\n",
       "      <td>1918</td>\n",
       "      <td>2</td>\n",
       "      <td>-1</td>\n",
       "    </tr>\n",
       "  </tbody>\n",
       "</table>\n",
       "<p>10677 rows × 3 columns</p>\n",
       "</div>"
      ],
      "text/plain": [
       "      text_id  annotator_id  is_abuse\n",
       "0         278             2         1\n",
       "1         278             3         1\n",
       "2         278             7         1\n",
       "3        2626             3         1\n",
       "4        2626             7         1\n",
       "...       ...           ...       ...\n",
       "1801     2122             4         1\n",
       "1802     2122             6        -1\n",
       "1803     2122             8         1\n",
       "1804     1918             1        -1\n",
       "1805     1918             2        -1\n",
       "\n",
       "[10677 rows x 3 columns]"
      ]
     },
     "execution_count": 6,
     "metadata": {},
     "output_type": "execute_result"
    }
   ],
   "source": [
    "df_annot_full = pd.concat([pd.read_csv(dataset_path / f'annotations_{split}.csv') for split in ['train', 'valid', 'test']])\n",
    "df_annot_full"
   ]
  },
  {
   "cell_type": "code",
   "execution_count": 7,
   "id": "5b9ba4fe",
   "metadata": {},
   "outputs": [
    {
     "data": {
      "image/png": "[encoded data removed]",
      "text/plain": [
       "<Figure size 432x288 with 1 Axes>"
      ]
     },
     "metadata": {
      "needs_background": "light"
     },
     "output_type": "display_data"
    },
    {
     "data": {
      "image/png": "[encoded data removed]",
      "text/plain": [
       "<Figure size 432x288 with 1 Axes>"
      ]
     },
     "metadata": {
      "needs_background": "light"
     },
     "output_type": "display_data"
    },
    {
     "data": {
      "image/png": "[encoded data removed]",
      "text/plain": [
       "<Figure size 432x288 with 1 Axes>"
      ]
     },
     "metadata": {
      "needs_background": "light"
     },
     "output_type": "display_data"
    }
   ],
   "source": [
    "for split in ['train', 'valid', 'test']:\n",
    "    fig, ax = plt.subplots()\n",
    "    annot_df = pd.read_csv(dataset_path / f'binary_abuse_mv_{split}.csv')\n",
    "    sns.countplot(x=\"is_abuse\", data=annot_df, ax=ax)\n",
    "    ax.set_title(split)"
   ]
  },
  {
   "cell_type": "code",
   "execution_count": 8,
   "id": "c853775e",
   "metadata": {},
   "outputs": [
    {
     "data": {
      "image/png": "[encoded data removed]",
      "text/plain": [
       "<Figure size 432x288 with 1 Axes>"
      ]
     },
     "metadata": {
      "needs_background": "light"
     },
     "output_type": "display_data"
    },
    {
     "data": {
      "image/png": "[encoded data removed]",
      "text/plain": [
       "<Figure size 432x288 with 1 Axes>"
      ]
     },
     "metadata": {
      "needs_background": "light"
     },
     "output_type": "display_data"
    },
    {
     "data": {
      "image/png": "[encoded data removed]",
      "text/plain": [
       "<Figure size 432x288 with 1 Axes>"
      ]
     },
     "metadata": {
      "needs_background": "light"
     },
     "output_type": "display_data"
    }
   ],
   "source": [
    "for split in ['train', 'valid', 'test']:\n",
    "    fig, ax = plt.subplots()\n",
    "    annot_df = pd.read_csv(dataset_path / f'annotations_{split}.csv')\n",
    "    sns.countplot(x=\"is_abuse\", data=annot_df, ax=ax)\n",
    "    ax.set_title(split)"
   ]
  },
  {
   "cell_type": "code",
   "execution_count": null,
   "id": "3ea7330f",
   "metadata": {},
   "outputs": [],
   "source": []
  }
 ],
 "metadata": {
  "kernelspec": {
   "display_name": "Python 3 (ipykernel)",
   "language": "python",
   "name": "python3"
  },
  "language_info": {
   "codemirror_mode": {
    "name": "ipython",
    "version": 3
   },
   "file_extension": ".py",
   "mimetype": "text/x-python",
   "name": "python",
   "nbconvert_exporter": "python",
   "pygments_lexer": "ipython3",
   "version": "3.8.7"
  }
 },
 "nbformat": 4,
 "nbformat_minor": 5
}
