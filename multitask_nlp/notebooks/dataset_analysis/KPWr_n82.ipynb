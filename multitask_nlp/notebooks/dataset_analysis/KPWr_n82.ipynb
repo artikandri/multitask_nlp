{
 "cells": [
  {
   "cell_type": "code",
   "execution_count": 1,
   "id": "4b5bdecf",
   "metadata": {},
   "outputs": [],
   "source": [
    "%load_ext autoreload\n",
    "%autoreload 2\n",
    "\n",
    "import os\n",
    "import sys\n",
    "sys.path.append('../../../')\n",
    "from collections import Counter\n",
    "from typing import List, Tuple\n",
    "\n",
    "import matplotlib.pyplot as plt\n",
    "import seaborn as sns\n",
    "import numpy as np\n",
    "import pandas as pd\n",
    "from tqdm.auto import tqdm\n",
    "\n",
    "from datasets import load_dataset\n",
    "from multitask_nlp.settings import DATASETS_DIR\n",
    "\n",
    "tqdm.pandas()\n",
    "\n",
    "dataset_path = DATASETS_DIR / 'kpwr_n82'"
   ]
  },
  {
   "cell_type": "code",
   "execution_count": 2,
   "id": "ac3314d9",
   "metadata": {},
   "outputs": [],
   "source": [
    "def read_file(filepath: str) -> List[Tuple[str, List[str], List[str]]]:\n",
    "    all_documents_data = []\n",
    "    document_data = []\n",
    "    sentence_tokens = []\n",
    "    tags = []\n",
    "\n",
    "    f = open(filepath, encoding='UTF-8')\n",
    "    for i, line in enumerate(f, 1):\n",
    "        if not line.strip() or len(line) == 0 or line[0] == \"\\n\":\n",
    "            if len(sentence_tokens) > 0:\n",
    "                sentence = ' '.join(sentence_tokens)\n",
    "                document_data.append((sentence, sentence_tokens, tags))\n",
    "                sentence_tokens = []\n",
    "                tags = []\n",
    "            continue\n",
    "            \n",
    "        elif line.startswith('-DOCSTART'):\n",
    "            if len(document_data) > 0:\n",
    "                all_documents_data.append(document_data)\n",
    "                document_data = []\n",
    "            continue\n",
    "\n",
    "        splits = line.split('\\t')\n",
    "        assert len(splits) >= 2, \"error on line {}. Found {} splits\".format(i, len(splits))\n",
    "        word, ner_tag = splits[0], splits[3]\n",
    "        sentence_tokens.append(word.strip())\n",
    "        tags.append(ner_tag.strip())\n",
    "\n",
    "    if len(sentence_tokens) > 0:\n",
    "        sentence = ' '.join(sentence_tokens)\n",
    "        document_data.append((sentence, sentence_tokens, tags))\n",
    "        \n",
    "    if len(document_data) > 0:\n",
    "        all_documents_data.append(document_data)\n",
    "\n",
    "    f.close()\n",
    "    return all_documents_data\n",
    "\n",
    "text_ids, texts, texts_tokens, tags = [], [], [], []\n",
    "\n",
    "f_name = 'kpwr-ner-n82-train-tune.iob'\n",
    "\n",
    "text_id = 1\n",
    "\n",
    "all_documents_data = read_file(dataset_path / f_name)\n",
    "for document_data in all_documents_data:\n",
    "    for sentence, sentence_tokens, sentence_tags in document_data:\n",
    "        texts.append(sentence)\n",
    "        texts_tokens.append(sentence_tokens)\n",
    "        tags.append(sentence_tags)\n",
    "        text_id += 1"
   ]
  },
  {
   "cell_type": "code",
   "execution_count": 7,
   "id": "53f00d01",
   "metadata": {},
   "outputs": [],
   "source": [
    "# all_documents_data[1]"
   ]
  },
  {
   "cell_type": "code",
   "execution_count": 3,
   "id": "6526e3d7",
   "metadata": {},
   "outputs": [],
   "source": [
    "assert all([len(tokens) == len(texts_tags) for tokens, texts_tags \n",
    "            in zip(texts_tokens, tags)])"
   ]
  },
  {
   "cell_type": "code",
   "execution_count": 4,
   "id": "5c7ab9d5",
   "metadata": {},
   "outputs": [
    {
     "data": {
      "text/plain": [
       "13959"
      ]
     },
     "execution_count": 4,
     "metadata": {},
     "output_type": "execute_result"
    }
   ],
   "source": [
    "len(texts)"
   ]
  },
  {
   "cell_type": "code",
   "execution_count": 5,
   "id": "9d4f570c",
   "metadata": {},
   "outputs": [],
   "source": [
    "all_tags = [t for sent_tags in tags for t in sent_tags]"
   ]
  },
  {
   "cell_type": "code",
   "execution_count": 6,
   "id": "9f667176",
   "metadata": {},
   "outputs": [
    {
     "data": {
      "text/plain": [
       "227982"
      ]
     },
     "execution_count": 6,
     "metadata": {},
     "output_type": "execute_result"
    }
   ],
   "source": [
    "len(all_tags)"
   ]
  },
  {
   "cell_type": "code",
   "execution_count": 7,
   "id": "bae3d903",
   "metadata": {},
   "outputs": [],
   "source": [
    "counter = Counter(all_tags)"
   ]
  },
  {
   "cell_type": "code",
   "execution_count": 8,
   "id": "846fee51",
   "metadata": {},
   "outputs": [
    {
     "data": {
      "text/plain": [
       "[('O', 204746),\n",
       " ('B-nam_liv_person', 2911),\n",
       " ('I-nam_liv_person', 1880),\n",
       " ('I-nam_org_institution', 1470),\n",
       " ('B-nam_loc_gpe_city', 1342),\n",
       " ('B-nam_loc_gpe_country', 992),\n",
       " ('I-nam_org_organization', 850),\n",
       " ('B-nam_org_institution', 783),\n",
       " ('I-nam_pro_title_document', 731),\n",
       " ('B-nam_org_organization', 591),\n",
       " ('B-nam_org_group_team', 464),\n",
       " ('B-nam_adj_country', 453),\n",
       " ('I-nam_org_group_team', 422),\n",
       " ('I-nam_pro_title', 391),\n",
       " ('I-nam_eve_human', 355),\n",
       " ('B-nam_org_company', 324),\n",
       " ('I-nam_org_company', 300),\n",
       " ('B-nam_pro_media_periodic', 299),\n",
       " ('I-nam_fac_goe', 293),\n",
       " ('I-nam_pro_media_periodic', 286),\n",
       " ('B-nam_fac_road', 265),\n",
       " ('B-nam_liv_god', 257),\n",
       " ('I-nam_eve_human_sport', 241),\n",
       " ('B-nam_org_nation', 231),\n",
       " ('B-nam_oth_tech', 229),\n",
       " ('B-nam_pro_media_web', 227),\n",
       " ('B-nam_fac_goe', 212),\n",
       " ('B-nam_eve_human', 209),\n",
       " ('B-nam_pro_title', 207),\n",
       " ('B-nam_pro_brand', 205),\n",
       " ('I-nam_pro_model_car', 200),\n",
       " ('I-nam_pro_brand', 198),\n",
       " ('I-nam_loc_gpe_city', 193),\n",
       " ('B-nam_org_political_party', 168),\n",
       " ('I-nam_loc_gpe_country', 163),\n",
       " ('B-nam_loc_gpe_admin1', 162),\n",
       " ('I-nam_pro_title_treaty', 159),\n",
       " ('B-nam_eve_human_sport', 156),\n",
       " ('I-nam_org_political_party', 155),\n",
       " ('B-nam_pro_software', 145),\n",
       " ('I-nam_fac_road', 142),\n",
       " ('B-nam_adj', 128),\n",
       " ('B-nam_loc_gpe_admin3', 118),\n",
       " ('B-nam_pro_model_car', 116),\n",
       " ('B-nam_loc_hydronym_river', 112),\n",
       " ('B-nam_oth', 103),\n",
       " ('B-nam_pro_title_document', 98),\n",
       " ('B-nam_loc_astronomical', 97),\n",
       " ('B-nam_oth_currency', 96),\n",
       " ('B-nam_adj_city', 89),\n",
       " ('I-nam_eve', 85),\n",
       " ('I-nam_org_group_band', 83),\n",
       " ('B-nam_org_group_band', 78),\n",
       " ('I-nam_pro_media_web', 75),\n",
       " ('I-nam_pro_title_book', 75),\n",
       " ('B-nam_loc_gpe_admin2', 75),\n",
       " ('I-nam_pro_software', 73),\n",
       " ('I-nam_eve_human_cultural', 68),\n",
       " ('I-nam_oth_tech', 67),\n",
       " ('B-nam_loc_gpe_district', 67),\n",
       " ('I-nam_oth', 65),\n",
       " ('B-nam_loc_land_continent', 61),\n",
       " ('B-nam_loc_country_region', 61),\n",
       " ('B-nam_loc_land_mountain', 55),\n",
       " ('I-nam_pro_title_article', 52),\n",
       " ('B-nam_pro_title_book', 51),\n",
       " ('B-nam_loc_historical_region', 50),\n",
       " ('B-nam_loc', 48),\n",
       " ('B-nam_eve', 48),\n",
       " ('B-nam_org_group', 44),\n",
       " ('B-nam_loc_land_island', 44),\n",
       " ('I-nam_pro_title_tv', 44),\n",
       " ('I-nam_pro_title_album', 43),\n",
       " ('B-nam_pro_media_tv', 42),\n",
       " ('B-nam_liv_habitant', 42),\n",
       " ('B-nam_eve_human_cultural', 42),\n",
       " ('I-nam_pro_title_song', 42),\n",
       " ('I-nam_oth_license', 41),\n",
       " ('B-nam_pro_title_tv', 41),\n",
       " ('I-nam_oth_position', 40),\n",
       " ('I-nam_loc_country_region', 39),\n",
       " ('I-nam_loc_gpe_admin1', 39),\n",
       " ('B-nam_oth_license', 38),\n",
       " ('B-nam_num_house', 34),\n",
       " ('B-nam_pro_title_treaty', 33),\n",
       " ('B-nam_fac_system', 33),\n",
       " ('I-nam_loc_gpe_admin3', 32),\n",
       " ('B-nam_loc_gpe_subdivision', 32),\n",
       " ('I-nam_eve_human_holiday', 31),\n",
       " ('I-nam_org_group', 31),\n",
       " ('B-nam_loc_land_region', 30),\n",
       " ('I-nam_pro_award', 30),\n",
       " ('I-nam_loc_land_mountain', 30),\n",
       " ('I-nam_loc_astronomical', 30),\n",
       " ('B-nam_pro_title_album', 29),\n",
       " ('I-nam_pro_software_game', 28),\n",
       " ('B-nam_adj_person', 27),\n",
       " ('B-nam_fac_square', 26),\n",
       " ('I-nam_pro_media_radio', 26),\n",
       " ('B-nam_pro_award', 25),\n",
       " ('B-nam_eve_human_holiday', 25),\n",
       " ('I-nam_loc', 23),\n",
       " ('B-nam_pro_title_song', 22),\n",
       " ('I-nam_loc_gpe_subdivision', 22),\n",
       " ('B-nam_pro_media_radio', 20),\n",
       " ('I-nam_loc_gpe_district', 20),\n",
       " ('B-nam_pro_vehicle', 20),\n",
       " ('I-nam_loc_land_island', 19),\n",
       " ('I-nam_fac_park', 19),\n",
       " ('B-nam_oth_position', 19),\n",
       " ('B-nam_liv_animal', 19),\n",
       " ('I-nam_pro', 19),\n",
       " ('B-nam_pro', 18),\n",
       " ('I-nam_loc_historical_region', 18),\n",
       " ('I-nam_loc_land_region', 17),\n",
       " ('I-nam_liv_god', 17),\n",
       " ('I-nam_num_phone', 17),\n",
       " ('I-nam_fac_bridge', 17),\n",
       " ('I-nam_pro_media_tv', 16),\n",
       " ('B-nam_oth_www', 16),\n",
       " ('B-nam_num_phone', 16),\n",
       " ('B-nam_pro_title_article', 15),\n",
       " ('B-nam_oth_data_format', 15),\n",
       " ('B-nam_fac_bridge', 14),\n",
       " ('B-nam_liv_character', 13),\n",
       " ('I-nam_org_organization_sub', 12),\n",
       " ('B-nam_pro_software_game', 12),\n",
       " ('B-nam_loc_hydronym_lake', 12),\n",
       " ('B-nam_loc_gpe_conurbation', 12),\n",
       " ('B-nam_pro_media', 11),\n",
       " ('I-nam_fac_square', 10),\n",
       " ('B-nam_loc_land', 10),\n",
       " ('B-nam_loc_land_peak', 10),\n",
       " ('B-nam_fac_park', 9),\n",
       " ('B-nam_org_organization_sub', 8),\n",
       " ('I-nam_loc_hydronym_lake', 8),\n",
       " ('B-nam_loc_hydronym', 8),\n",
       " ('I-nam_pro_vehicle', 8),\n",
       " ('I-nam_loc_gpe_conurbation', 8),\n",
       " ('I-nam_fac_goe_stop', 8),\n",
       " ('I-nam_fac_system', 7),\n",
       " ('I-nam_pro_media', 7),\n",
       " ('I-nam_loc_gpe_admin2', 7),\n",
       " ('I-nam_loc_land', 6),\n",
       " ('B-nam_loc_hydronym_sea', 6),\n",
       " ('B-nam_loc_hydronym_ocean', 6),\n",
       " ('I-nam_org_nation', 6),\n",
       " ('I-nam_liv_character', 5),\n",
       " ('I-nam_oth_www', 5),\n",
       " ('B-nam_fac_goe_stop', 5),\n",
       " ('I-nam_loc_hydronym_sea', 4),\n",
       " ('I-nam_oth_currency', 4),\n",
       " ('I-nam_loc_hydronym', 4),\n",
       " ('I-nam_liv_animal', 4),\n",
       " ('I-nam_loc_hydronym_river', 4),\n",
       " ('I-nam_oth_data_format', 3),\n",
       " ('I-nam_loc_land_continent', 2),\n",
       " ('I-nam_loc_land_peak', 2),\n",
       " ('I-nam_num_house', 2),\n",
       " ('I-nam_loc_hydronym_ocean', 2)]"
      ]
     },
     "execution_count": 8,
     "metadata": {},
     "output_type": "execute_result"
    }
   ],
   "source": [
    "counter.most_common()"
   ]
  },
  {
   "cell_type": "code",
   "execution_count": 9,
   "id": "5138f62c",
   "metadata": {},
   "outputs": [],
   "source": [
    "iob_unique_tags = np.unique(all_tags)"
   ]
  },
  {
   "cell_type": "code",
   "execution_count": 10,
   "id": "3991c9a1",
   "metadata": {},
   "outputs": [
    {
     "data": {
      "text/plain": [
       "160"
      ]
     },
     "execution_count": 10,
     "metadata": {},
     "output_type": "execute_result"
    }
   ],
   "source": [
    "len(iob_unique_tags)"
   ]
  },
  {
   "cell_type": "code",
   "execution_count": 11,
   "id": "9d3a0e10",
   "metadata": {},
   "outputs": [
    {
     "data": {
      "text/plain": [
       "array(['B-nam_adj', 'B-nam_adj_city', 'B-nam_adj_country',\n",
       "       'B-nam_adj_person', 'B-nam_eve', 'B-nam_eve_human',\n",
       "       'B-nam_eve_human_cultural', 'B-nam_eve_human_holiday',\n",
       "       'B-nam_eve_human_sport', 'B-nam_fac_bridge', 'B-nam_fac_goe',\n",
       "       'B-nam_fac_goe_stop', 'B-nam_fac_park', 'B-nam_fac_road',\n",
       "       'B-nam_fac_square', 'B-nam_fac_system', 'B-nam_liv_animal',\n",
       "       'B-nam_liv_character', 'B-nam_liv_god', 'B-nam_liv_habitant',\n",
       "       'B-nam_liv_person', 'B-nam_loc', 'B-nam_loc_astronomical',\n",
       "       'B-nam_loc_country_region', 'B-nam_loc_gpe_admin1',\n",
       "       'B-nam_loc_gpe_admin2', 'B-nam_loc_gpe_admin3',\n",
       "       'B-nam_loc_gpe_city', 'B-nam_loc_gpe_conurbation',\n",
       "       'B-nam_loc_gpe_country', 'B-nam_loc_gpe_district',\n",
       "       'B-nam_loc_gpe_subdivision', 'B-nam_loc_historical_region',\n",
       "       'B-nam_loc_hydronym', 'B-nam_loc_hydronym_lake',\n",
       "       'B-nam_loc_hydronym_ocean', 'B-nam_loc_hydronym_river',\n",
       "       'B-nam_loc_hydronym_sea', 'B-nam_loc_land',\n",
       "       'B-nam_loc_land_continent', 'B-nam_loc_land_island',\n",
       "       'B-nam_loc_land_mountain', 'B-nam_loc_land_peak',\n",
       "       'B-nam_loc_land_region', 'B-nam_num_house', 'B-nam_num_phone',\n",
       "       'B-nam_org_company', 'B-nam_org_group', 'B-nam_org_group_band',\n",
       "       'B-nam_org_group_team', 'B-nam_org_institution',\n",
       "       'B-nam_org_nation', 'B-nam_org_organization',\n",
       "       'B-nam_org_organization_sub', 'B-nam_org_political_party',\n",
       "       'B-nam_oth', 'B-nam_oth_currency', 'B-nam_oth_data_format',\n",
       "       'B-nam_oth_license', 'B-nam_oth_position', 'B-nam_oth_tech',\n",
       "       'B-nam_oth_www', 'B-nam_pro', 'B-nam_pro_award', 'B-nam_pro_brand',\n",
       "       'B-nam_pro_media', 'B-nam_pro_media_periodic',\n",
       "       'B-nam_pro_media_radio', 'B-nam_pro_media_tv',\n",
       "       'B-nam_pro_media_web', 'B-nam_pro_model_car', 'B-nam_pro_software',\n",
       "       'B-nam_pro_software_game', 'B-nam_pro_title',\n",
       "       'B-nam_pro_title_album', 'B-nam_pro_title_article',\n",
       "       'B-nam_pro_title_book', 'B-nam_pro_title_document',\n",
       "       'B-nam_pro_title_song', 'B-nam_pro_title_treaty',\n",
       "       'B-nam_pro_title_tv', 'B-nam_pro_vehicle', 'I-nam_eve',\n",
       "       'I-nam_eve_human', 'I-nam_eve_human_cultural',\n",
       "       'I-nam_eve_human_holiday', 'I-nam_eve_human_sport',\n",
       "       'I-nam_fac_bridge', 'I-nam_fac_goe', 'I-nam_fac_goe_stop',\n",
       "       'I-nam_fac_park', 'I-nam_fac_road', 'I-nam_fac_square',\n",
       "       'I-nam_fac_system', 'I-nam_liv_animal', 'I-nam_liv_character',\n",
       "       'I-nam_liv_god', 'I-nam_liv_person', 'I-nam_loc',\n",
       "       'I-nam_loc_astronomical', 'I-nam_loc_country_region',\n",
       "       'I-nam_loc_gpe_admin1', 'I-nam_loc_gpe_admin2',\n",
       "       'I-nam_loc_gpe_admin3', 'I-nam_loc_gpe_city',\n",
       "       'I-nam_loc_gpe_conurbation', 'I-nam_loc_gpe_country',\n",
       "       'I-nam_loc_gpe_district', 'I-nam_loc_gpe_subdivision',\n",
       "       'I-nam_loc_historical_region', 'I-nam_loc_hydronym',\n",
       "       'I-nam_loc_hydronym_lake', 'I-nam_loc_hydronym_ocean',\n",
       "       'I-nam_loc_hydronym_river', 'I-nam_loc_hydronym_sea',\n",
       "       'I-nam_loc_land', 'I-nam_loc_land_continent',\n",
       "       'I-nam_loc_land_island', 'I-nam_loc_land_mountain',\n",
       "       'I-nam_loc_land_peak', 'I-nam_loc_land_region', 'I-nam_num_house',\n",
       "       'I-nam_num_phone', 'I-nam_org_company', 'I-nam_org_group',\n",
       "       'I-nam_org_group_band', 'I-nam_org_group_team',\n",
       "       'I-nam_org_institution', 'I-nam_org_nation',\n",
       "       'I-nam_org_organization', 'I-nam_org_organization_sub',\n",
       "       'I-nam_org_political_party', 'I-nam_oth', 'I-nam_oth_currency',\n",
       "       'I-nam_oth_data_format', 'I-nam_oth_license', 'I-nam_oth_position',\n",
       "       'I-nam_oth_tech', 'I-nam_oth_www', 'I-nam_pro', 'I-nam_pro_award',\n",
       "       'I-nam_pro_brand', 'I-nam_pro_media', 'I-nam_pro_media_periodic',\n",
       "       'I-nam_pro_media_radio', 'I-nam_pro_media_tv',\n",
       "       'I-nam_pro_media_web', 'I-nam_pro_model_car', 'I-nam_pro_software',\n",
       "       'I-nam_pro_software_game', 'I-nam_pro_title',\n",
       "       'I-nam_pro_title_album', 'I-nam_pro_title_article',\n",
       "       'I-nam_pro_title_book', 'I-nam_pro_title_document',\n",
       "       'I-nam_pro_title_song', 'I-nam_pro_title_treaty',\n",
       "       'I-nam_pro_title_tv', 'I-nam_pro_vehicle', 'O'], dtype='<U27')"
      ]
     },
     "execution_count": 11,
     "metadata": {},
     "output_type": "execute_result"
    }
   ],
   "source": [
    "iob_unique_tags"
   ]
  },
  {
   "cell_type": "code",
   "execution_count": 12,
   "id": "01514a8d",
   "metadata": {},
   "outputs": [],
   "source": [
    "unique_tags = []\n",
    "for t in iob_unique_tags:\n",
    "    if len(t.split('-')) > 1:\n",
    "        unique_tags.append(t.split('-')[1])\n",
    "    else:\n",
    "         unique_tags.append(t)\n",
    "\n",
    "unique_tags = np.unique(unique_tags)"
   ]
  },
  {
   "cell_type": "code",
   "execution_count": 13,
   "id": "4440d275",
   "metadata": {},
   "outputs": [
    {
     "data": {
      "text/plain": [
       "array(['O', 'nam_adj', 'nam_adj_city', 'nam_adj_country',\n",
       "       'nam_adj_person', 'nam_eve', 'nam_eve_human',\n",
       "       'nam_eve_human_cultural', 'nam_eve_human_holiday',\n",
       "       'nam_eve_human_sport', 'nam_fac_bridge', 'nam_fac_goe',\n",
       "       'nam_fac_goe_stop', 'nam_fac_park', 'nam_fac_road',\n",
       "       'nam_fac_square', 'nam_fac_system', 'nam_liv_animal',\n",
       "       'nam_liv_character', 'nam_liv_god', 'nam_liv_habitant',\n",
       "       'nam_liv_person', 'nam_loc', 'nam_loc_astronomical',\n",
       "       'nam_loc_country_region', 'nam_loc_gpe_admin1',\n",
       "       'nam_loc_gpe_admin2', 'nam_loc_gpe_admin3', 'nam_loc_gpe_city',\n",
       "       'nam_loc_gpe_conurbation', 'nam_loc_gpe_country',\n",
       "       'nam_loc_gpe_district', 'nam_loc_gpe_subdivision',\n",
       "       'nam_loc_historical_region', 'nam_loc_hydronym',\n",
       "       'nam_loc_hydronym_lake', 'nam_loc_hydronym_ocean',\n",
       "       'nam_loc_hydronym_river', 'nam_loc_hydronym_sea', 'nam_loc_land',\n",
       "       'nam_loc_land_continent', 'nam_loc_land_island',\n",
       "       'nam_loc_land_mountain', 'nam_loc_land_peak',\n",
       "       'nam_loc_land_region', 'nam_num_house', 'nam_num_phone',\n",
       "       'nam_org_company', 'nam_org_group', 'nam_org_group_band',\n",
       "       'nam_org_group_team', 'nam_org_institution', 'nam_org_nation',\n",
       "       'nam_org_organization', 'nam_org_organization_sub',\n",
       "       'nam_org_political_party', 'nam_oth', 'nam_oth_currency',\n",
       "       'nam_oth_data_format', 'nam_oth_license', 'nam_oth_position',\n",
       "       'nam_oth_tech', 'nam_oth_www', 'nam_pro', 'nam_pro_award',\n",
       "       'nam_pro_brand', 'nam_pro_media', 'nam_pro_media_periodic',\n",
       "       'nam_pro_media_radio', 'nam_pro_media_tv', 'nam_pro_media_web',\n",
       "       'nam_pro_model_car', 'nam_pro_software', 'nam_pro_software_game',\n",
       "       'nam_pro_title', 'nam_pro_title_album', 'nam_pro_title_article',\n",
       "       'nam_pro_title_book', 'nam_pro_title_document',\n",
       "       'nam_pro_title_song', 'nam_pro_title_treaty', 'nam_pro_title_tv',\n",
       "       'nam_pro_vehicle'], dtype='<U25')"
      ]
     },
     "execution_count": 13,
     "metadata": {},
     "output_type": "execute_result"
    }
   ],
   "source": [
    "unique_tags"
   ]
  },
  {
   "cell_type": "code",
   "execution_count": 14,
   "id": "e0fa8635",
   "metadata": {},
   "outputs": [
    {
     "data": {
      "text/plain": [
       "83"
      ]
     },
     "execution_count": 14,
     "metadata": {},
     "output_type": "execute_result"
    }
   ],
   "source": [
    "len(unique_tags)"
   ]
  },
  {
   "cell_type": "code",
   "execution_count": 25,
   "id": "d45e4792",
   "metadata": {},
   "outputs": [],
   "source": [
    "from collections import defaultdict\n",
    "\n",
    "tag_positions_unique = defaultdict(set)"
   ]
  },
  {
   "cell_type": "code",
   "execution_count": 26,
   "id": "cbf635c1",
   "metadata": {},
   "outputs": [],
   "source": [
    "for tag in unique_tags:\n",
    "    split_tag = tag.split('_')\n",
    "    for i, split in enumerate(split_tag):\n",
    "        if split == 'O': \n",
    "            tag_positions_unique[i].add(split)\n",
    "        elif split != 'nam':\n",
    "            if i == 1:\n",
    "                split = 'nam_' + split\n",
    "            \n",
    "            tag_positions_unique[i-1].add(split)"
   ]
  },
  {
   "cell_type": "code",
   "execution_count": 27,
   "id": "8e8a14ff",
   "metadata": {},
   "outputs": [
    {
     "data": {
      "text/plain": [
       "defaultdict(set,\n",
       "            {0: {'O',\n",
       "              'nam_adj',\n",
       "              'nam_eve',\n",
       "              'nam_fac',\n",
       "              'nam_liv',\n",
       "              'nam_loc',\n",
       "              'nam_num',\n",
       "              'nam_org',\n",
       "              'nam_oth',\n",
       "              'nam_pro'},\n",
       "             1: {'animal',\n",
       "              'astronomical',\n",
       "              'award',\n",
       "              'brand',\n",
       "              'bridge',\n",
       "              'character',\n",
       "              'city',\n",
       "              'company',\n",
       "              'country',\n",
       "              'currency',\n",
       "              'data',\n",
       "              'god',\n",
       "              'goe',\n",
       "              'gpe',\n",
       "              'group',\n",
       "              'habitant',\n",
       "              'historical',\n",
       "              'house',\n",
       "              'human',\n",
       "              'hydronym',\n",
       "              'institution',\n",
       "              'land',\n",
       "              'license',\n",
       "              'media',\n",
       "              'model',\n",
       "              'nation',\n",
       "              'organization',\n",
       "              'park',\n",
       "              'person',\n",
       "              'phone',\n",
       "              'political',\n",
       "              'position',\n",
       "              'road',\n",
       "              'software',\n",
       "              'square',\n",
       "              'system',\n",
       "              'tech',\n",
       "              'title',\n",
       "              'vehicle',\n",
       "              'www'},\n",
       "             2: {'admin1',\n",
       "              'admin2',\n",
       "              'admin3',\n",
       "              'album',\n",
       "              'article',\n",
       "              'band',\n",
       "              'book',\n",
       "              'car',\n",
       "              'city',\n",
       "              'continent',\n",
       "              'conurbation',\n",
       "              'country',\n",
       "              'cultural',\n",
       "              'district',\n",
       "              'document',\n",
       "              'format',\n",
       "              'game',\n",
       "              'holiday',\n",
       "              'island',\n",
       "              'lake',\n",
       "              'mountain',\n",
       "              'ocean',\n",
       "              'party',\n",
       "              'peak',\n",
       "              'periodic',\n",
       "              'radio',\n",
       "              'region',\n",
       "              'river',\n",
       "              'sea',\n",
       "              'song',\n",
       "              'sport',\n",
       "              'stop',\n",
       "              'sub',\n",
       "              'subdivision',\n",
       "              'team',\n",
       "              'treaty',\n",
       "              'tv',\n",
       "              'web'}})"
      ]
     },
     "execution_count": 27,
     "metadata": {},
     "output_type": "execute_result"
    }
   ],
   "source": [
    "tag_positions_unique"
   ]
  }
 ],
 "metadata": {
  "kernelspec": {
   "display_name": "Python 3 (ipykernel)",
   "language": "python",
   "name": "python3"
  },
  "language_info": {
   "codemirror_mode": {
    "name": "ipython",
    "version": 3
   },
   "file_extension": ".py",
   "mimetype": "text/x-python",
   "name": "python",
   "nbconvert_exporter": "python",
   "pygments_lexer": "ipython3",
   "version": "3.8.7"
  }
 },
 "nbformat": 4,
 "nbformat_minor": 5
}
