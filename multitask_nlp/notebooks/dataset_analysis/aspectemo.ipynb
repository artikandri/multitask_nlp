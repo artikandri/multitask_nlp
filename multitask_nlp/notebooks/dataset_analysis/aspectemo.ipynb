{
 "cells": [
  {
   "cell_type": "code",
   "execution_count": 4,
   "id": "4dc2a349",
   "metadata": {},
   "outputs": [
    {
     "name": "stdout",
     "output_type": "stream",
     "text": [
      "The autoreload extension is already loaded. To reload it, use:\n",
      "  %reload_ext autoreload\n"
     ]
    }
   ],
   "source": [
    "%load_ext autoreload\n",
    "%autoreload 2\n",
    "\n",
    "import os\n",
    "import sys\n",
    "sys.path.append('../../../')\n",
    "\n",
    "import matplotlib.pyplot as plt\n",
    "import seaborn as sns\n",
    "import numpy as np\n",
    "import pandas as pd\n",
    "from tqdm.auto import tqdm\n",
    "\n",
    "from datasets import load_dataset\n",
    "from multitask_nlp.settings import DATASETS_DIR\n",
    "\n",
    "tqdm.pandas()\n",
    "\n",
    "dataset_path = DATASETS_DIR / 'aspectemo'\n",
    "documents_data_path = dataset_path / 'documents'\n"
   ]
  },
  {
   "cell_type": "code",
   "execution_count": 57,
   "id": "860b3ba8",
   "metadata": {
    "scrolled": false
   },
   "outputs": [
    {
     "data": {
      "application/vnd.jupyter.widget-view+json": {
       "model_id": "5b9aa2d3ad1e47159ea9a71bdbb74a6e",
       "version_major": 2,
       "version_minor": 0
      },
      "text/plain": [
       "  0%|          | 0/1862 [00:00<?, ?it/s]"
      ]
     },
     "metadata": {},
     "output_type": "display_data"
    }
   ],
   "source": [
    "texts, X_tokens, y = [], [], []\n",
    "\n",
    "files = os.listdir(documents_data_path)\n",
    "files = list(filter(lambda x: x.split('.')[1] == 'conll', files))\n",
    "\n",
    "for f_name in tqdm(files):\n",
    "    with open(documents_data_path / f_name, \"r\", encoding='UTF-8') as f:\n",
    "        lines = f.read().splitlines()\n",
    "        lines = [l for l in lines if l != '']\n",
    "        rows = [l.split('\\t') for l in lines][1:]\n",
    "\n",
    "    tokens = [r[2] for r in rows]\n",
    "    tags = [r[6].split(':')[0] for r in rows]\n",
    "    text = ' '.join(tokens)\n",
    "\n",
    "    texts.append(text)\n",
    "    X_tokens.append(tokens)\n",
    "    y.append(tags)\n",
    "\n",
    "    "
   ]
  },
  {
   "cell_type": "code",
   "execution_count": 58,
   "id": "955835ae",
   "metadata": {},
   "outputs": [],
   "source": [
    "flat_tags = [item for sublist in y for item in sublist]"
   ]
  },
  {
   "cell_type": "code",
   "execution_count": 61,
   "id": "4d14cea9",
   "metadata": {},
   "outputs": [
    {
     "data": {
      "text/plain": [
       "['B-a_amb',\n",
       " 'B-a_minus_m',\n",
       " 'B-a_minus_s',\n",
       " 'B-a_plus_m',\n",
       " 'B-a_plus_s',\n",
       " 'B-a_zero',\n",
       " 'I-a_minus_m',\n",
       " 'I-a_minus_s',\n",
       " 'I-a_plus_m',\n",
       " 'I-a_zero',\n",
       " 'O']"
      ]
     },
     "execution_count": 61,
     "metadata": {},
     "output_type": "execute_result"
    }
   ],
   "source": [
    "sorted(list(set(flat_tags)))"
   ]
  }
 ],
 "metadata": {
  "kernelspec": {
   "display_name": "Python 3 (ipykernel)",
   "language": "python",
   "name": "python3"
  },
  "language_info": {
   "codemirror_mode": {
    "name": "ipython",
    "version": 3
   },
   "file_extension": ".py",
   "mimetype": "text/x-python",
   "name": "python",
   "nbconvert_exporter": "python",
   "pygments_lexer": "ipython3",
   "version": "3.8.7"
  }
 },
 "nbformat": 4,
 "nbformat_minor": 5
}
