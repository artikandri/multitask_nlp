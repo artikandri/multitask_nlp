{
 "cells": [
  {
   "cell_type": "markdown",
   "id": "09bee0ef",
   "metadata": {},
   "source": [
    "# Pejorative\n",
    "\n",
    "Creating `text_data.csv` and `annotations.csv` for Pejorative dataset."
   ]
  },
  {
   "cell_type": "code",
   "execution_count": 1,
   "id": "f31cfab7",
   "metadata": {},
   "outputs": [],
   "source": [
    "%load_ext autoreload\n",
    "%autoreload 2\n",
    "\n",
    "import os\n",
    "import sys\n",
    "sys.path.append('../../../')\n",
    "\n",
    "import matplotlib.pyplot as plt\n",
    "import seaborn as sns\n",
    "import numpy as np\n",
    "import pandas as pd\n",
    "from tqdm.auto import tqdm\n",
    "\n",
    "from datasets import load_dataset\n",
    "from multitask_nlp.settings import DATASETS_DIR\n",
    "\n",
    "tqdm.pandas()\n",
    "\n",
    "dataset_path = DATASETS_DIR / 'pejorative_dataset'"
   ]
  },
  {
   "cell_type": "code",
   "execution_count": 2,
   "id": "86984d2a",
   "metadata": {},
   "outputs": [],
   "source": [
    "df = pd.read_csv(dataset_path / 'tweet_datasets'/ 'English' / 'PEJOR1_annotated.csv', skiprows=2,\n",
    "                names=['id', 'tweet', 'pejor_word', 'word_definition', 'annotator_1', 'annotator_2', 'annotator_3'])"
   ]
  },
  {
   "cell_type": "code",
   "execution_count": 3,
   "id": "fda5b94f",
   "metadata": {
    "scrolled": true
   },
   "outputs": [
    {
     "data": {
      "text/html": [
       "<div>\n",
       "<style scoped>\n",
       "    .dataframe tbody tr th:only-of-type {\n",
       "        vertical-align: middle;\n",
       "    }\n",
       "\n",
       "    .dataframe tbody tr th {\n",
       "        vertical-align: top;\n",
       "    }\n",
       "\n",
       "    .dataframe thead th {\n",
       "        text-align: right;\n",
       "    }\n",
       "</style>\n",
       "<table border=\"1\" class=\"dataframe\">\n",
       "  <thead>\n",
       "    <tr style=\"text-align: right;\">\n",
       "      <th></th>\n",
       "      <th>id</th>\n",
       "      <th>tweet</th>\n",
       "      <th>pejor_word</th>\n",
       "      <th>word_definition</th>\n",
       "      <th>annotator_1</th>\n",
       "      <th>annotator_2</th>\n",
       "      <th>annotator_3</th>\n",
       "    </tr>\n",
       "  </thead>\n",
       "  <tbody>\n",
       "    <tr>\n",
       "      <th>0</th>\n",
       "      <td>146</td>\n",
       "      <td>&amp;#8220;@FreddieGibbs: Tea bag a bitch.&amp;#8221; ...</td>\n",
       "      <td>bag</td>\n",
       "      <td>https://en.wiktionary.org/wiki/bag#English</td>\n",
       "      <td>0</td>\n",
       "      <td>0</td>\n",
       "      <td>NaN</td>\n",
       "    </tr>\n",
       "    <tr>\n",
       "      <th>1</th>\n",
       "      <td>288</td>\n",
       "      <td>@Sammy_Sicko Get me a bag of those pink n whit...</td>\n",
       "      <td>bag</td>\n",
       "      <td>https://en.wiktionary.org/wiki/bag#English</td>\n",
       "      <td>0</td>\n",
       "      <td>0</td>\n",
       "      <td>NaN</td>\n",
       "    </tr>\n",
       "    <tr>\n",
       "      <th>2</th>\n",
       "      <td>356</td>\n",
       "      <td>@itsjaylaaa eat shit nigga bitch turd bag dick...</td>\n",
       "      <td>bag</td>\n",
       "      <td>https://en.wiktionary.org/wiki/bag#English</td>\n",
       "      <td>1</td>\n",
       "      <td>1</td>\n",
       "      <td>NaN</td>\n",
       "    </tr>\n",
       "    <tr>\n",
       "      <th>3</th>\n",
       "      <td>548</td>\n",
       "      <td>I get a 50 pound bag of dawg for the mutts</td>\n",
       "      <td>bag</td>\n",
       "      <td>https://en.wiktionary.org/wiki/bag#English</td>\n",
       "      <td>0</td>\n",
       "      <td>0</td>\n",
       "      <td>NaN</td>\n",
       "    </tr>\n",
       "    <tr>\n",
       "      <th>4</th>\n",
       "      <td>618</td>\n",
       "      <td>Nuggas be to obsessed with the homies. Like th...</td>\n",
       "      <td>bag bitch</td>\n",
       "      <td>https://en.wiktionary.org/wiki/bag bitch#English</td>\n",
       "      <td>1</td>\n",
       "      <td>1</td>\n",
       "      <td>NaN</td>\n",
       "    </tr>\n",
       "  </tbody>\n",
       "</table>\n",
       "</div>"
      ],
      "text/plain": [
       "    id                                              tweet pejor_word  \\\n",
       "0  146  &#8220;@FreddieGibbs: Tea bag a bitch.&#8221; ...        bag   \n",
       "1  288  @Sammy_Sicko Get me a bag of those pink n whit...        bag   \n",
       "2  356  @itsjaylaaa eat shit nigga bitch turd bag dick...        bag   \n",
       "3  548         I get a 50 pound bag of dawg for the mutts        bag   \n",
       "4  618  Nuggas be to obsessed with the homies. Like th...  bag bitch   \n",
       "\n",
       "                                    word_definition annotator_1 annotator_2  \\\n",
       "0        https://en.wiktionary.org/wiki/bag#English           0           0   \n",
       "1        https://en.wiktionary.org/wiki/bag#English           0           0   \n",
       "2        https://en.wiktionary.org/wiki/bag#English           1           1   \n",
       "3        https://en.wiktionary.org/wiki/bag#English           0           0   \n",
       "4  https://en.wiktionary.org/wiki/bag bitch#English           1           1   \n",
       "\n",
       "   annotator_3  \n",
       "0          NaN  \n",
       "1          NaN  \n",
       "2          NaN  \n",
       "3          NaN  \n",
       "4          NaN  "
      ]
     },
     "execution_count": 3,
     "metadata": {},
     "output_type": "execute_result"
    }
   ],
   "source": [
    "df.head()"
   ]
  },
  {
   "cell_type": "code",
   "execution_count": 4,
   "id": "b379edef",
   "metadata": {},
   "outputs": [],
   "source": [
    "texts_df = df[['id', 'tweet', 'pejor_word']]\n",
    "texts_df = texts_df.rename(columns={'id': 'text_id', 'tweet': 'text'})\n",
    "texts_df = texts_df.drop_duplicates()"
   ]
  },
  {
   "cell_type": "code",
   "execution_count": 13,
   "id": "30fa939b",
   "metadata": {},
   "outputs": [],
   "source": [
    "annotations_records = []\n",
    "\n",
    "for i, row in df.iterrows():\n",
    "    text_id = row.id\n",
    "    for i in range(3):\n",
    "        annotator_id = i+1\n",
    "        annotation = row[f'annotator_{annotator_id}']\n",
    "        \n",
    "        if not pd.isna(annotation) and annotation in ['0', '1', '0.0', '1.0']:\n",
    "            annotations_records.append({\n",
    "                'text_id': text_id,\n",
    "                'annotator_id': annotator_id,\n",
    "                'is_pejorative': annotation\n",
    "            }) \n",
    "\n",
    "annotations_df = pd.DataFrame.from_records(annotations_records)\n",
    "annotations_df.is_pejorative = annotations_df.is_pejorative.astype('int64')"
   ]
  },
  {
   "cell_type": "code",
   "execution_count": 18,
   "id": "18319892",
   "metadata": {},
   "outputs": [],
   "source": [
    "texts_df.to_csv(dataset_path / f'text_data.csv', index=False)\n",
    "annotations_df.to_csv(dataset_path / f'annotations.csv', index=False)"
   ]
  }
 ],
 "metadata": {
  "kernelspec": {
   "display_name": "Python 3 (ipykernel)",
   "language": "python",
   "name": "python3"
  },
  "language_info": {
   "codemirror_mode": {
    "name": "ipython",
    "version": 3
   },
   "file_extension": ".py",
   "mimetype": "text/x-python",
   "name": "python",
   "nbconvert_exporter": "python",
   "pygments_lexer": "ipython3",
   "version": "3.8.7"
  }
 },
 "nbformat": 4,
 "nbformat_minor": 5
}
