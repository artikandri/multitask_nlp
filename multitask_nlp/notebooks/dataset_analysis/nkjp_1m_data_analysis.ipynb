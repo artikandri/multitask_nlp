{
 "cells": [
  {
   "cell_type": "markdown",
   "id": "b2127f8d",
   "metadata": {},
   "source": [
    "# NKJP - 1M\n",
    "\n",
    "## POS tagging"
   ]
  },
  {
   "cell_type": "code",
   "execution_count": 1,
   "id": "4b5bdecf",
   "metadata": {},
   "outputs": [],
   "source": [
    "%load_ext autoreload\n",
    "%autoreload 2\n",
    "\n",
    "import os\n",
    "import sys\n",
    "import xml.etree.ElementTree as ET\n",
    "sys.path.append('../../../')\n",
    "from collections import Counter\n",
    "from typing import List, Tuple\n",
    "\n",
    "import matplotlib.pyplot as plt\n",
    "import seaborn as sns\n",
    "import numpy as np\n",
    "import pandas as pd\n",
    "from tqdm.auto import tqdm\n",
    "\n",
    "from datasets import load_dataset\n",
    "from multitask_nlp.settings import DATASETS_DIR\n",
    "\n",
    "tqdm.pandas()\n",
    "\n",
    "dataset_path = DATASETS_DIR / 'nkjp1m'"
   ]
  },
  {
   "cell_type": "code",
   "execution_count": 4,
   "id": "2a48ad04",
   "metadata": {},
   "outputs": [],
   "source": [
    "def read_xml_file(filepath: str):\n",
    "    tree = ET.parse(filepath)\n",
    "    root = tree.getroot()\n",
    "    chunk_list_root = root[0]\n",
    "\n",
    "    total_count = 0\n",
    "    data = []\n",
    "\n",
    "    tokens_num = 0\n",
    "\n",
    "    for paragraph_chunk in chunk_list_root:\n",
    "        pragraph_data = []\n",
    "        for sentence_chunk in paragraph_chunk:\n",
    "            sentence_tokens = []\n",
    "            sentence_tags = []\n",
    "            for token in sentence_chunk.iter('tok'):\n",
    "                total_count += 1\n",
    "                orth = token[0].text\n",
    "                sentence_tokens.append(orth)\n",
    "\n",
    "                pos_tags = [descendant for descendant in token.iter('lex')]\n",
    "                for pos_tag in pos_tags:\n",
    "                    if 'disamb' in pos_tag.attrib:\n",
    "                        sentence_tags.append(pos_tag[1].text)\n",
    "\n",
    "            text = ' '.join(sentence_tokens)\n",
    "            pragraph_data.append((text, sentence_tokens, sentence_tags))\n",
    "            \n",
    "        data.append(pragraph_data)\n",
    "        \n",
    "    return data\n"
   ]
  },
  {
   "cell_type": "code",
   "execution_count": 5,
   "id": "ac3314d9",
   "metadata": {},
   "outputs": [],
   "source": [
    "filepath = dataset_path / 'nkjp1m-1.2-xces-xml'\n",
    "all_documents_data = read_xml_file(filepath)"
   ]
  },
  {
   "cell_type": "code",
   "execution_count": 9,
   "id": "a07c464b",
   "metadata": {},
   "outputs": [],
   "source": [
    "text_ids, texts, texts_tokens, tags = [], [], [], []\n",
    "text_id = 1\n",
    "\n",
    "for document_data in all_documents_data:\n",
    "    for sentence, sentence_tokens, sentence_tags in document_data:\n",
    "        texts.append(sentence)\n",
    "        texts_tokens.append(sentence_tokens)\n",
    "        tags.append(sentence_tags)\n",
    "        text_id += 1"
   ]
  },
  {
   "cell_type": "code",
   "execution_count": 10,
   "id": "6526e3d7",
   "metadata": {},
   "outputs": [],
   "source": [
    "assert all([len(tokens) == len(texts_tags) for tokens, texts_tags \n",
    "            in zip(texts_tokens, tags)])"
   ]
  },
  {
   "cell_type": "code",
   "execution_count": 11,
   "id": "5c7ab9d5",
   "metadata": {},
   "outputs": [
    {
     "data": {
      "text/plain": [
       "85663"
      ]
     },
     "execution_count": 11,
     "metadata": {},
     "output_type": "execute_result"
    }
   ],
   "source": [
    "len(texts)"
   ]
  },
  {
   "cell_type": "code",
   "execution_count": 12,
   "id": "9d4f570c",
   "metadata": {},
   "outputs": [],
   "source": [
    "all_tags = [t for sent_tags in tags for t in sent_tags]"
   ]
  },
  {
   "cell_type": "code",
   "execution_count": 13,
   "id": "9f667176",
   "metadata": {},
   "outputs": [
    {
     "data": {
      "text/plain": [
       "1215513"
      ]
     },
     "execution_count": 13,
     "metadata": {},
     "output_type": "execute_result"
    }
   ],
   "source": [
    "len(all_tags)"
   ]
  },
  {
   "cell_type": "code",
   "execution_count": 20,
   "id": "5138f62c",
   "metadata": {},
   "outputs": [],
   "source": [
    "unique_tags = np.unique(all_tags)"
   ]
  },
  {
   "cell_type": "code",
   "execution_count": 21,
   "id": "3991c9a1",
   "metadata": {},
   "outputs": [
    {
     "data": {
      "text/plain": [
       "1129"
      ]
     },
     "execution_count": 21,
     "metadata": {},
     "output_type": "execute_result"
    }
   ],
   "source": [
    "len(unique_tags)"
   ]
  },
  {
   "cell_type": "code",
   "execution_count": 22,
   "id": "fda1e2e6",
   "metadata": {},
   "outputs": [],
   "source": [
    "grammatic_classes = np.unique([t.split(':')[0] for t in unique_tags])"
   ]
  },
  {
   "cell_type": "code",
   "execution_count": 23,
   "id": "b1fc1905",
   "metadata": {},
   "outputs": [
    {
     "data": {
      "text/plain": [
       "array(['adj', 'adja', 'adjc', 'adjp', 'adv', 'aglt', 'bedzie', 'brev',\n",
       "       'burk', 'comp', 'conj', 'depr', 'fin', 'ger', 'ign', 'imps',\n",
       "       'impt', 'inf', 'interj', 'interp', 'num', 'numcol', 'pact', 'pant',\n",
       "       'pcon', 'ppas', 'ppron12', 'ppron3', 'praet', 'pred', 'prep',\n",
       "       'qub', 'siebie', 'subst', 'winien', 'xxx'], dtype='<U7')"
      ]
     },
     "execution_count": 23,
     "metadata": {},
     "output_type": "execute_result"
    }
   ],
   "source": [
    "grammatic_classes"
   ]
  },
  {
   "cell_type": "code",
   "execution_count": 25,
   "id": "385473c9",
   "metadata": {},
   "outputs": [
    {
     "name": "stdout",
     "output_type": "stream",
     "text": [
      "\n",
      "####################################################################################################\n",
      "adj\n",
      "####################################################################################################\n",
      "\n",
      "adj:pl:acc:f:com | adj:pl:acc:f:pos | adj:pl:acc:f:sup | adj:pl:acc:m1:com | adj:pl:acc:m1:pos | adj:pl:acc:m1:sup | adj:pl:acc:m2:com | adj:pl:acc:m2:pos | adj:pl:acc:m2:sup | adj:pl:acc:m3:com | adj:pl:acc:m3:pos | adj:pl:acc:m3:sup | adj:pl:acc:n:com | adj:pl:acc:n:pos | adj:pl:acc:n:sup | adj:pl:dat:f:com | adj:pl:dat:f:pos | adj:pl:dat:f:sup | adj:pl:dat:m1:com | adj:pl:dat:m1:pos | adj:pl:dat:m1:sup | adj:pl:dat:m2:com | adj:pl:dat:m2:pos | adj:pl:dat:m2:sup | adj:pl:dat:m3:com | adj:pl:dat:m3:pos | adj:pl:dat:m3:sup | adj:pl:dat:n:com | adj:pl:dat:n:pos | adj:pl:dat:n:sup | adj:pl:gen:f:com | adj:pl:gen:f:pos | adj:pl:gen:f:sup | adj:pl:gen:m1:com | adj:pl:gen:m1:pos | adj:pl:gen:m1:sup | adj:pl:gen:m2:com | adj:pl:gen:m2:pos | adj:pl:gen:m2:sup | adj:pl:gen:m3:com | adj:pl:gen:m3:pos | adj:pl:gen:m3:sup | adj:pl:gen:n:com | adj:pl:gen:n:pos | adj:pl:gen:n:sup | adj:pl:inst:f:com | adj:pl:inst:f:pos | adj:pl:inst:f:sup | adj:pl:inst:m1:com | adj:pl:inst:m1:pos | adj:pl:inst:m1:sup | adj:pl:inst:m2:com | adj:pl:inst:m2:pos | adj:pl:inst:m2:sup | adj:pl:inst:m3:com | adj:pl:inst:m3:pos | adj:pl:inst:m3:sup | adj:pl:inst:n:com | adj:pl:inst:n:pos | adj:pl:inst:n:sup | adj:pl:loc:f:com | adj:pl:loc:f:pos | adj:pl:loc:f:sup | adj:pl:loc:m1:com | adj:pl:loc:m1:pos | adj:pl:loc:m1:sup | adj:pl:loc:m2:com | adj:pl:loc:m2:pos | adj:pl:loc:m2:sup | adj:pl:loc:m3:com | adj:pl:loc:m3:pos | adj:pl:loc:m3:sup | adj:pl:loc:n:com | adj:pl:loc:n:pos | adj:pl:loc:n:sup | adj:pl:nom:f:com | adj:pl:nom:f:pos | adj:pl:nom:f:sup | adj:pl:nom:m1:com | adj:pl:nom:m1:pos | adj:pl:nom:m1:sup | adj:pl:nom:m2:com | adj:pl:nom:m2:pos | adj:pl:nom:m2:sup | adj:pl:nom:m3:com | adj:pl:nom:m3:pos | adj:pl:nom:m3:sup | adj:pl:nom:n:com | adj:pl:nom:n:pos | adj:pl:nom:n:sup | adj:pl:voc:f:com | adj:pl:voc:f:pos | adj:pl:voc:f:sup | adj:pl:voc:m1:com | adj:pl:voc:m1:pos | adj:pl:voc:m1:sup | adj:pl:voc:m2:com | adj:pl:voc:m2:pos | adj:pl:voc:m2:sup | adj:pl:voc:m3:com | adj:pl:voc:m3:pos | adj:pl:voc:m3:sup | adj:pl:voc:n:com | adj:pl:voc:n:pos | adj:pl:voc:n:sup | adj:sg:acc:f:com | adj:sg:acc:f:pos | adj:sg:acc:f:sup | adj:sg:acc:m1:com | adj:sg:acc:m1:pos | adj:sg:acc:m1:sup | adj:sg:acc:m2:com | adj:sg:acc:m2:pos | adj:sg:acc:m2:sup | adj:sg:acc:m3:com | adj:sg:acc:m3:pos | adj:sg:acc:m3:sup | adj:sg:acc:n:com | adj:sg:acc:n:pos | adj:sg:acc:n:sup | adj:sg:dat:f:com | adj:sg:dat:f:pos | adj:sg:dat:f:sup | adj:sg:dat:m1:com | adj:sg:dat:m1:pos | adj:sg:dat:m2:pos | adj:sg:dat:m2:sup | adj:sg:dat:m3:com | adj:sg:dat:m3:pos | adj:sg:dat:m3:sup | adj:sg:dat:n:com | adj:sg:dat:n:pos | adj:sg:dat:n:sup | adj:sg:gen:f:com | adj:sg:gen:f:pos | adj:sg:gen:f:sup | adj:sg:gen:m1:com | adj:sg:gen:m1:pos | adj:sg:gen:m1:sup | adj:sg:gen:m2:com | adj:sg:gen:m2:pos | adj:sg:gen:m2:sup | adj:sg:gen:m3:com | adj:sg:gen:m3:pos | adj:sg:gen:m3:sup | adj:sg:gen:n:com | adj:sg:gen:n:pos | adj:sg:gen:n:sup | adj:sg:inst:f:com | adj:sg:inst:f:pos | adj:sg:inst:f:sup | adj:sg:inst:m1:com | adj:sg:inst:m1:pos | adj:sg:inst:m1:sup | adj:sg:inst:m2:com | adj:sg:inst:m2:pos | adj:sg:inst:m2:sup | adj:sg:inst:m3:com | adj:sg:inst:m3:pos | adj:sg:inst:m3:sup | adj:sg:inst:n:com | adj:sg:inst:n:pos | adj:sg:inst:n:sup | adj:sg:loc:f:com | adj:sg:loc:f:pos | adj:sg:loc:f:sup | adj:sg:loc:m1:com | adj:sg:loc:m1:pos | adj:sg:loc:m1:sup | adj:sg:loc:m2:com | adj:sg:loc:m2:pos | adj:sg:loc:m2:sup | adj:sg:loc:m3:com | adj:sg:loc:m3:pos | adj:sg:loc:m3:sup | adj:sg:loc:n:com | adj:sg:loc:n:pos | adj:sg:loc:n:sup | adj:sg:nom:f:com | adj:sg:nom:f:pos | adj:sg:nom:f:sup | adj:sg:nom:m1:com | adj:sg:nom:m1:pos | adj:sg:nom:m1:sup | adj:sg:nom:m2:com | adj:sg:nom:m2:pos | adj:sg:nom:m2:sup | adj:sg:nom:m3:com | adj:sg:nom:m3:pos | adj:sg:nom:m3:sup | adj:sg:nom:n:com | adj:sg:nom:n:pos | adj:sg:nom:n:sup | adj:sg:voc:f:com | adj:sg:voc:f:pos | adj:sg:voc:f:sup | adj:sg:voc:m1:com | adj:sg:voc:m1:pos | adj:sg:voc:m1:sup | adj:sg:voc:m2:com | adj:sg:voc:m2:pos | adj:sg:voc:m2:sup | adj:sg:voc:m3:com | adj:sg:voc:m3:pos | adj:sg:voc:m3:sup | adj:sg:voc:n:com | adj:sg:voc:n:pos | adj:sg:voc:n:sup\n",
      "\n",
      "####################################################################################################\n",
      "adja\n",
      "####################################################################################################\n",
      "\n",
      "adja:\n",
      "\n",
      "####################################################################################################\n",
      "adjc\n",
      "####################################################################################################\n",
      "\n",
      "adjc:\n",
      "\n",
      "####################################################################################################\n",
      "adjp\n",
      "####################################################################################################\n",
      "\n",
      "adjp:\n",
      "\n",
      "####################################################################################################\n",
      "adv\n",
      "####################################################################################################\n",
      "\n",
      "adv: | adv:com | adv:pos | adv:sup\n",
      "\n",
      "####################################################################################################\n",
      "aglt\n",
      "####################################################################################################\n",
      "\n",
      "aglt:pl:pri:imperf:nwok | aglt:pl:pri:imperf:wok | aglt:pl:sec:imperf:nwok | aglt:sg:pri:imperf:nwok | aglt:sg:pri:imperf:wok | aglt:sg:sec:imperf:nwok | aglt:sg:sec:imperf:wok | aglt:sg:ter:imperf:nwok\n",
      "\n",
      "####################################################################################################\n",
      "bedzie\n",
      "####################################################################################################\n",
      "\n",
      "bedzie:pl:pri:imperf | bedzie:pl:sec:imperf | bedzie:pl:ter:imperf | bedzie:sg:pri:imperf | bedzie:sg:sec:imperf | bedzie:sg:ter:imperf\n",
      "\n",
      "####################################################################################################\n",
      "brev\n",
      "####################################################################################################\n",
      "\n",
      "brev:npun | brev:pun\n",
      "\n",
      "####################################################################################################\n",
      "burk\n",
      "####################################################################################################\n",
      "\n",
      "burk:\n",
      "\n",
      "####################################################################################################\n",
      "comp\n",
      "####################################################################################################\n",
      "\n",
      "comp:\n",
      "\n",
      "####################################################################################################\n",
      "conj\n",
      "####################################################################################################\n",
      "\n",
      "conj:\n",
      "\n",
      "####################################################################################################\n",
      "depr\n",
      "####################################################################################################\n",
      "\n",
      "depr:pl:acc:m2 | depr:pl:nom:m2 | depr:pl:voc:m2\n",
      "\n",
      "####################################################################################################\n",
      "fin\n",
      "####################################################################################################\n",
      "\n",
      "fin:pl:pri:imperf | fin:pl:pri:perf | fin:pl:sec:imperf | fin:pl:sec:perf | fin:pl:ter:imperf | fin:pl:ter:perf | fin:sg:pri:imperf | fin:sg:pri:perf | fin:sg:sec:imperf | fin:sg:sec:perf | fin:sg:ter:imperf | fin:sg:ter:perf\n",
      "\n",
      "####################################################################################################\n",
      "ger\n",
      "####################################################################################################\n",
      "\n",
      "ger:pl:dat:n:perf:aff | ger:pl:gen:n:imperf:aff | ger:pl:gen:n:perf:aff | ger:pl:inst:n:imperf:aff | ger:pl:nom:n:imperf:aff | ger:pl:nom:n:perf:aff | ger:sg:acc:n:imperf:aff | ger:sg:acc:n:imperf:neg | ger:sg:acc:n:perf:aff | ger:sg:acc:n:perf:neg | ger:sg:dat:n:imperf:aff | ger:sg:dat:n:perf:aff | ger:sg:dat:n:perf:neg | ger:sg:gen:n:imperf:aff | ger:sg:gen:n:imperf:neg | ger:sg:gen:n:perf:aff | ger:sg:gen:n:perf:neg | ger:sg:inst:n:imperf:aff | ger:sg:inst:n:imperf:neg | ger:sg:inst:n:perf:aff | ger:sg:inst:n:perf:neg | ger:sg:loc:n:imperf:aff | ger:sg:loc:n:imperf:neg | ger:sg:loc:n:perf:aff | ger:sg:loc:n:perf:neg | ger:sg:nom:n:imperf:aff | ger:sg:nom:n:imperf:neg | ger:sg:nom:n:perf:aff | ger:sg:nom:n:perf:neg\n",
      "\n",
      "####################################################################################################\n",
      "ign\n",
      "####################################################################################################\n",
      "\n",
      "ign:\n",
      "\n",
      "####################################################################################################\n",
      "imps\n",
      "####################################################################################################\n",
      "\n",
      "imps:imperf | imps:perf\n",
      "\n",
      "####################################################################################################\n",
      "impt\n",
      "####################################################################################################\n",
      "\n",
      "impt:pl:pri:imperf | impt:pl:pri:perf | impt:pl:sec:imperf | impt:pl:sec:perf | impt:sg:sec:imperf | impt:sg:sec:perf\n",
      "\n",
      "####################################################################################################\n",
      "inf\n",
      "####################################################################################################\n",
      "\n",
      "inf:imperf | inf:perf\n",
      "\n",
      "####################################################################################################\n",
      "interj\n",
      "####################################################################################################\n",
      "\n",
      "interj:\n",
      "\n",
      "####################################################################################################\n",
      "interp\n",
      "####################################################################################################\n",
      "\n",
      "interp:\n",
      "\n",
      "####################################################################################################\n",
      "num\n",
      "####################################################################################################\n",
      "\n",
      "num:pl:acc:f:congr | num:pl:acc:f:rec | num:pl:acc:m1:congr | num:pl:acc:m1:rec | num:pl:acc:m2:congr | num:pl:acc:m2:rec | num:pl:acc:m3:congr | num:pl:acc:m3:rec | num:pl:acc:n:congr | num:pl:acc:n:rec | num:pl:dat:f:congr | num:pl:dat:f:rec | num:pl:dat:m1:congr | num:pl:dat:m1:rec | num:pl:dat:m2:congr | num:pl:dat:m2:rec | num:pl:dat:m3:congr | num:pl:dat:m3:rec | num:pl:dat:n:congr | num:pl:dat:n:rec | num:pl:gen:f:congr | num:pl:gen:f:rec | num:pl:gen:m1:congr | num:pl:gen:m1:rec | num:pl:gen:m2:congr | num:pl:gen:m2:rec | num:pl:gen:m3:congr | num:pl:gen:m3:rec | num:pl:gen:n:congr | num:pl:gen:n:rec | num:pl:inst:f:congr | num:pl:inst:f:rec | num:pl:inst:m1:congr | num:pl:inst:m1:rec | num:pl:inst:m2:congr | num:pl:inst:m2:rec | num:pl:inst:m3:congr | num:pl:inst:m3:rec | num:pl:inst:n:congr | num:pl:inst:n:rec | num:pl:loc:f:congr | num:pl:loc:f:rec | num:pl:loc:m1:congr | num:pl:loc:m1:rec | num:pl:loc:m2:congr | num:pl:loc:m2:rec | num:pl:loc:m3:congr | num:pl:loc:m3:rec | num:pl:loc:n:congr | num:pl:loc:n:rec | num:pl:nom:f:congr | num:pl:nom:f:rec | num:pl:nom:m1:congr | num:pl:nom:m1:rec | num:pl:nom:m2:congr | num:pl:nom:m2:rec | num:pl:nom:m3:congr | num:pl:nom:m3:rec | num:pl:nom:n:congr | num:pl:nom:n:rec | num:pl:voc:f:congr | num:pl:voc:f:rec | num:pl:voc:m1:congr | num:pl:voc:m1:rec | num:pl:voc:m2:congr | num:pl:voc:m2:rec | num:pl:voc:m3:congr | num:pl:voc:m3:rec | num:pl:voc:n:congr | num:pl:voc:n:rec | num:sg:acc:m1:rec | num:sg:acc:m3:rec | num:sg:acc:n:rec | num:sg:dat:f:rec | num:sg:dat:m2:rec | num:sg:dat:m3:rec | num:sg:dat:n:rec | num:sg:gen:f:congr | num:sg:gen:f:rec | num:sg:gen:m1:congr | num:sg:gen:m1:rec | num:sg:gen:m2:rec | num:sg:gen:m3:congr | num:sg:gen:m3:rec | num:sg:gen:n:rec | num:sg:inst:f:rec | num:sg:inst:m1:rec | num:sg:inst:m2:rec | num:sg:inst:m3:rec | num:sg:loc:m2:rec | num:sg:loc:m3:rec | num:sg:nom:f:rec | num:sg:nom:m2:rec | num:sg:nom:m3:congr | num:sg:nom:m3:rec | num:sg:voc:m1:rec | num:sg:voc:m3:rec | num:sg:voc:n:rec\n",
      "\n",
      "####################################################################################################\n",
      "numcol\n",
      "####################################################################################################\n",
      "\n",
      "numcol:pl:acc:m1:rec | numcol:pl:acc:n:rec | numcol:pl:dat:n:congr | numcol:pl:gen:m1:rec | numcol:pl:gen:n:congr | numcol:pl:gen:n:rec | numcol:pl:inst:m1:rec | numcol:pl:inst:n:rec | numcol:pl:nom:m1:rec | numcol:pl:nom:n:rec | numcol:pl:voc:m1:rec | numcol:pl:voc:n:rec\n",
      "\n",
      "####################################################################################################\n",
      "pact\n",
      "####################################################################################################\n",
      "\n",
      "pact:pl:acc:f:imperf:aff | pact:pl:acc:f:imperf:neg | pact:pl:acc:f:perf:aff | pact:pl:acc:m1:imperf:aff | pact:pl:acc:m2:imperf:aff | pact:pl:acc:m2:imperf:neg | pact:pl:acc:m2:perf:aff | pact:pl:acc:m3:imperf:aff | pact:pl:acc:n:imperf:aff | pact:pl:dat:f:imperf:aff | pact:pl:dat:m1:imperf:aff | pact:pl:dat:m2:imperf:aff | pact:pl:dat:m3:imperf:aff | pact:pl:dat:m3:imperf:neg | pact:pl:dat:n:imperf:aff | pact:pl:gen:f:imperf:aff | pact:pl:gen:f:imperf:neg | pact:pl:gen:m1:imperf:aff | pact:pl:gen:m1:imperf:neg | pact:pl:gen:m2:imperf:aff | pact:pl:gen:m3:imperf:aff | pact:pl:gen:m3:imperf:neg | pact:pl:gen:m3:perf:aff | pact:pl:gen:n:imperf:aff | pact:pl:gen:n:imperf:neg | pact:pl:gen:n:perf:aff | pact:pl:inst:f:imperf:aff | pact:pl:inst:m1:imperf:aff | pact:pl:inst:m1:imperf:neg | pact:pl:inst:m2:imperf:aff | pact:pl:inst:m2:imperf:neg | pact:pl:inst:m3:imperf:aff | pact:pl:inst:n:imperf:aff | pact:pl:loc:f:imperf:aff | pact:pl:loc:m1:imperf:aff | pact:pl:loc:m1:imperf:neg | pact:pl:loc:m2:imperf:aff | pact:pl:loc:m2:imperf:neg | pact:pl:loc:m3:imperf:aff | pact:pl:loc:m3:imperf:neg | pact:pl:loc:n:imperf:aff | pact:pl:nom:f:imperf:aff | pact:pl:nom:f:imperf:neg | pact:pl:nom:m1:imperf:aff | pact:pl:nom:m1:imperf:neg | pact:pl:nom:m2:imperf:aff | pact:pl:nom:m2:imperf:neg | pact:pl:nom:m2:perf:aff | pact:pl:nom:m3:imperf:aff | pact:pl:nom:m3:imperf:neg | pact:pl:nom:n:imperf:aff | pact:pl:nom:n:imperf:neg | pact:pl:nom:n:perf:aff | pact:sg:acc:f:imperf:aff | pact:sg:acc:f:imperf:neg | pact:sg:acc:f:perf:aff | pact:sg:acc:m1:imperf:aff | pact:sg:acc:m1:perf:aff | pact:sg:acc:m2:imperf:aff | pact:sg:acc:m2:imperf:neg | pact:sg:acc:m3:imperf:aff | pact:sg:acc:m3:imperf:neg | pact:sg:acc:n:imperf:aff | pact:sg:acc:n:imperf:neg | pact:sg:acc:n:perf:aff | pact:sg:dat:f:imperf:aff | pact:sg:dat:f:imperf:neg | pact:sg:dat:m1:imperf:aff | pact:sg:dat:m2:imperf:aff | pact:sg:dat:m3:imperf:aff | pact:sg:dat:n:imperf:aff | pact:sg:gen:f:imperf:aff | pact:sg:gen:f:perf:aff | pact:sg:gen:m1:imperf:aff | pact:sg:gen:m1:imperf:neg | pact:sg:gen:m1:perf:aff | pact:sg:gen:m2:imperf:aff | pact:sg:gen:m2:imperf:neg | pact:sg:gen:m3:imperf:aff | pact:sg:gen:n:imperf:aff | pact:sg:gen:n:imperf:neg | pact:sg:inst:f:imperf:aff | pact:sg:inst:f:imperf:neg | pact:sg:inst:m1:imperf:aff | pact:sg:inst:m2:imperf:aff | pact:sg:inst:m2:imperf:neg | pact:sg:inst:m3:imperf:aff | pact:sg:inst:m3:imperf:neg | pact:sg:inst:n:imperf:aff | pact:sg:inst:n:imperf:neg | pact:sg:loc:f:imperf:aff | pact:sg:loc:f:imperf:neg | pact:sg:loc:m1:imperf:aff | pact:sg:loc:m1:imperf:neg | pact:sg:loc:m2:imperf:aff | pact:sg:loc:m3:imperf:aff | pact:sg:loc:n:imperf:aff | pact:sg:nom:f:imperf:aff | pact:sg:nom:f:imperf:neg | pact:sg:nom:f:perf:aff | pact:sg:nom:m1:imperf:aff | pact:sg:nom:m1:imperf:neg | pact:sg:nom:m2:imperf:aff | pact:sg:nom:m2:imperf:neg | pact:sg:nom:m2:perf:aff | pact:sg:nom:m3:imperf:aff | pact:sg:nom:m3:imperf:neg | pact:sg:nom:n:imperf:aff | pact:sg:nom:n:imperf:neg\n",
      "\n",
      "####################################################################################################\n",
      "pant\n",
      "####################################################################################################\n",
      "\n",
      "pant:perf\n",
      "\n",
      "####################################################################################################\n",
      "pcon\n",
      "####################################################################################################\n",
      "\n",
      "pcon:imperf\n",
      "\n",
      "####################################################################################################\n",
      "ppas\n",
      "####################################################################################################\n",
      "\n",
      "ppas:pl:acc:f:imperf:aff | ppas:pl:acc:f:imperf:neg | ppas:pl:acc:f:perf:aff | ppas:pl:acc:f:perf:neg | ppas:pl:acc:m1:imperf:aff | ppas:pl:acc:m1:perf:aff | ppas:pl:acc:m1:perf:neg | ppas:pl:acc:m2:imperf:aff | ppas:pl:acc:m2:perf:aff | ppas:pl:acc:m2:perf:neg | ppas:pl:acc:m3:imperf:aff | ppas:pl:acc:m3:imperf:neg | ppas:pl:acc:m3:perf:aff | ppas:pl:acc:m3:perf:neg | ppas:pl:acc:n:imperf:aff | ppas:pl:acc:n:perf:aff | ppas:pl:acc:n:perf:neg | ppas:pl:dat:f:imperf:aff | ppas:pl:dat:f:perf:aff | ppas:pl:dat:m1:imperf:aff | ppas:pl:dat:m1:imperf:neg | ppas:pl:dat:m1:perf:aff | ppas:pl:dat:m1:perf:neg | ppas:pl:dat:m2:imperf:aff | ppas:pl:dat:m2:perf:aff | ppas:pl:dat:m2:perf:neg | ppas:pl:dat:m3:imperf:aff | ppas:pl:dat:m3:imperf:neg | ppas:pl:dat:m3:perf:aff | ppas:pl:dat:m3:perf:neg | ppas:pl:dat:n:imperf:aff | ppas:pl:dat:n:perf:aff | ppas:pl:dat:n:perf:neg | ppas:pl:gen:f:imperf:aff | ppas:pl:gen:f:imperf:neg | ppas:pl:gen:f:perf:aff | ppas:pl:gen:f:perf:neg | ppas:pl:gen:m1:imperf:aff | ppas:pl:gen:m1:imperf:neg | ppas:pl:gen:m1:perf:aff | ppas:pl:gen:m1:perf:neg | ppas:pl:gen:m2:imperf:aff | ppas:pl:gen:m2:perf:aff | ppas:pl:gen:m2:perf:neg | ppas:pl:gen:m3:imperf:aff | ppas:pl:gen:m3:imperf:neg | ppas:pl:gen:m3:perf:aff | ppas:pl:gen:m3:perf:neg | ppas:pl:gen:n:imperf:aff | ppas:pl:gen:n:perf:aff | ppas:pl:gen:n:perf:neg | ppas:pl:inst:f:imperf:aff | ppas:pl:inst:f:perf:aff | ppas:pl:inst:m1:imperf:aff | ppas:pl:inst:m1:perf:aff | ppas:pl:inst:m2:imperf:aff | ppas:pl:inst:m2:perf:aff | ppas:pl:inst:m3:imperf:aff | ppas:pl:inst:m3:perf:aff | ppas:pl:inst:n:imperf:aff | ppas:pl:inst:n:perf:aff | ppas:pl:inst:n:perf:neg | ppas:pl:loc:f:imperf:aff | ppas:pl:loc:f:imperf:neg | ppas:pl:loc:f:perf:aff | ppas:pl:loc:f:perf:neg | ppas:pl:loc:m1:imperf:aff | ppas:pl:loc:m1:imperf:neg | ppas:pl:loc:m1:perf:aff | ppas:pl:loc:m1:perf:neg | ppas:pl:loc:m2:imperf:aff | ppas:pl:loc:m2:imperf:neg | ppas:pl:loc:m2:perf:aff | ppas:pl:loc:m2:perf:neg | ppas:pl:loc:m3:imperf:aff | ppas:pl:loc:m3:perf:aff | ppas:pl:loc:m3:perf:neg | ppas:pl:loc:n:imperf:aff | ppas:pl:loc:n:perf:aff | ppas:pl:loc:n:perf:neg | ppas:pl:nom:f:imperf:aff | ppas:pl:nom:f:imperf:neg | ppas:pl:nom:f:perf:aff | ppas:pl:nom:f:perf:neg | ppas:pl:nom:m1:imperf:aff | ppas:pl:nom:m1:imperf:neg | ppas:pl:nom:m1:perf:aff | ppas:pl:nom:m1:perf:neg | ppas:pl:nom:m2:imperf:aff | ppas:pl:nom:m2:imperf:neg | ppas:pl:nom:m2:perf:aff | ppas:pl:nom:m2:perf:neg | ppas:pl:nom:m3:imperf:aff | ppas:pl:nom:m3:imperf:neg | ppas:pl:nom:m3:perf:aff | ppas:pl:nom:m3:perf:neg | ppas:pl:nom:n:imperf:aff | ppas:pl:nom:n:imperf:neg | ppas:pl:nom:n:perf:aff | ppas:pl:nom:n:perf:neg | ppas:sg:acc:f:imperf:aff | ppas:sg:acc:f:imperf:neg | ppas:sg:acc:f:perf:aff | ppas:sg:acc:f:perf:neg | ppas:sg:acc:m1:imperf:aff | ppas:sg:acc:m1:perf:aff | ppas:sg:acc:m1:perf:neg | ppas:sg:acc:m2:imperf:aff | ppas:sg:acc:m2:imperf:neg | ppas:sg:acc:m2:perf:aff | ppas:sg:acc:m3:imperf:aff | ppas:sg:acc:m3:imperf:neg | ppas:sg:acc:m3:perf:aff | ppas:sg:acc:m3:perf:neg | ppas:sg:acc:n:imperf:aff | ppas:sg:acc:n:imperf:neg | ppas:sg:acc:n:perf:aff | ppas:sg:acc:n:perf:neg | ppas:sg:dat:f:imperf:aff | ppas:sg:dat:f:imperf:neg | ppas:sg:dat:f:perf:aff | ppas:sg:dat:f:perf:neg | ppas:sg:dat:m1:imperf:aff | ppas:sg:dat:m1:perf:aff | ppas:sg:dat:m2:perf:aff | ppas:sg:dat:m2:perf:neg | ppas:sg:dat:m3:imperf:aff | ppas:sg:dat:m3:perf:aff | ppas:sg:dat:n:imperf:aff | ppas:sg:dat:n:perf:aff | ppas:sg:gen:f:imperf:aff | ppas:sg:gen:f:imperf:neg | ppas:sg:gen:f:perf:aff | ppas:sg:gen:f:perf:neg | ppas:sg:gen:m1:imperf:aff | ppas:sg:gen:m1:imperf:neg | ppas:sg:gen:m1:perf:aff | ppas:sg:gen:m1:perf:neg | ppas:sg:gen:m2:imperf:aff | ppas:sg:gen:m2:perf:aff | ppas:sg:gen:m2:perf:neg | ppas:sg:gen:m3:imperf:aff | ppas:sg:gen:m3:imperf:neg | ppas:sg:gen:m3:perf:aff | ppas:sg:gen:m3:perf:neg | ppas:sg:gen:n:imperf:aff | ppas:sg:gen:n:imperf:neg | ppas:sg:gen:n:perf:aff | ppas:sg:gen:n:perf:neg | ppas:sg:inst:f:imperf:aff | ppas:sg:inst:f:imperf:neg | ppas:sg:inst:f:perf:aff | ppas:sg:inst:f:perf:neg | ppas:sg:inst:m1:imperf:aff | ppas:sg:inst:m1:perf:aff | ppas:sg:inst:m1:perf:neg | ppas:sg:inst:m2:imperf:aff | ppas:sg:inst:m2:imperf:neg | ppas:sg:inst:m2:perf:aff | ppas:sg:inst:m3:imperf:aff | ppas:sg:inst:m3:perf:aff | ppas:sg:inst:m3:perf:neg | ppas:sg:inst:n:imperf:aff | ppas:sg:inst:n:perf:aff | ppas:sg:inst:n:perf:neg | ppas:sg:loc:f:imperf:aff | ppas:sg:loc:f:perf:aff | ppas:sg:loc:f:perf:neg | ppas:sg:loc:m1:imperf:aff | ppas:sg:loc:m1:imperf:neg | ppas:sg:loc:m1:perf:aff | ppas:sg:loc:m1:perf:neg | ppas:sg:loc:m2:imperf:aff | ppas:sg:loc:m2:perf:aff | ppas:sg:loc:m2:perf:neg | ppas:sg:loc:m3:imperf:aff | ppas:sg:loc:m3:perf:aff | ppas:sg:loc:m3:perf:neg | ppas:sg:loc:n:imperf:aff | ppas:sg:loc:n:imperf:neg | ppas:sg:loc:n:perf:aff | ppas:sg:loc:n:perf:neg | ppas:sg:nom:f:imperf:aff | ppas:sg:nom:f:imperf:neg | ppas:sg:nom:f:perf:aff | ppas:sg:nom:f:perf:neg | ppas:sg:nom:m1:imperf:aff | ppas:sg:nom:m1:imperf:neg | ppas:sg:nom:m1:perf:aff | ppas:sg:nom:m1:perf:neg | ppas:sg:nom:m2:imperf:aff | ppas:sg:nom:m2:imperf:neg | ppas:sg:nom:m2:perf:aff | ppas:sg:nom:m2:perf:neg | ppas:sg:nom:m3:imperf:aff | ppas:sg:nom:m3:perf:aff | ppas:sg:nom:m3:perf:neg | ppas:sg:nom:n:imperf:aff | ppas:sg:nom:n:imperf:neg | ppas:sg:nom:n:perf:aff | ppas:sg:nom:n:perf:neg\n",
      "\n",
      "####################################################################################################\n",
      "ppron12\n",
      "####################################################################################################\n",
      "\n",
      "ppron12:pl:acc:f:pri | ppron12:pl:acc:f:sec | ppron12:pl:acc:m1:pri | ppron12:pl:acc:m1:sec | ppron12:pl:acc:m3:pri | ppron12:pl:acc:m3:sec | ppron12:pl:acc:n:pri | ppron12:pl:acc:n:sec | ppron12:pl:dat:f:pri | ppron12:pl:dat:f:sec | ppron12:pl:dat:m1:pri | ppron12:pl:dat:m1:sec | ppron12:pl:dat:m3:pri | ppron12:pl:dat:m3:sec | ppron12:pl:dat:n:pri | ppron12:pl:dat:n:sec | ppron12:pl:gen:f:pri | ppron12:pl:gen:f:sec | ppron12:pl:gen:m1:pri | ppron12:pl:gen:m1:sec | ppron12:pl:gen:m3:pri | ppron12:pl:gen:m3:sec | ppron12:pl:gen:n:pri | ppron12:pl:gen:n:sec | ppron12:pl:inst:f:pri | ppron12:pl:inst:f:sec | ppron12:pl:inst:m1:pri | ppron12:pl:inst:m1:sec | ppron12:pl:inst:m3:pri | ppron12:pl:inst:m3:sec | ppron12:pl:inst:n:pri | ppron12:pl:inst:n:sec | ppron12:pl:loc:f:pri | ppron12:pl:loc:f:sec | ppron12:pl:loc:m1:pri | ppron12:pl:loc:m1:sec | ppron12:pl:loc:m3:pri | ppron12:pl:loc:m3:sec | ppron12:pl:loc:n:pri | ppron12:pl:loc:n:sec | ppron12:pl:nom:f:pri | ppron12:pl:nom:f:sec | ppron12:pl:nom:m1:pri | ppron12:pl:nom:m1:pri:akc | ppron12:pl:nom:m1:sec | ppron12:pl:nom:m1:sec:akc | ppron12:pl:nom:m3:pri | ppron12:pl:nom:m3:sec | ppron12:pl:nom:n:pri | ppron12:pl:nom:n:sec | ppron12:sg:acc:f:pri:akc | ppron12:sg:acc:f:pri:nakc | ppron12:sg:acc:f:sec:akc | ppron12:sg:acc:f:sec:nakc | ppron12:sg:acc:m1:pri:akc | ppron12:sg:acc:m1:sec:akc | ppron12:sg:acc:m1:sec:nakc | ppron12:sg:acc:m2:pri:akc | ppron12:sg:acc:m2:sec:akc | ppron12:sg:acc:m2:sec:nakc | ppron12:sg:acc:m3:pri:akc | ppron12:sg:acc:m3:sec:akc | ppron12:sg:acc:m3:sec:nakc | ppron12:sg:acc:n:pri:akc | ppron12:sg:acc:n:sec:akc | ppron12:sg:acc:n:sec:nakc | ppron12:sg:dat:f:pri:akc | ppron12:sg:dat:f:pri:nakc | ppron12:sg:dat:f:sec:akc | ppron12:sg:dat:f:sec:nakc | ppron12:sg:dat:m1:pri:akc | ppron12:sg:dat:m1:pri:nakc | ppron12:sg:dat:m1:sec:akc | ppron12:sg:dat:m1:sec:nakc | ppron12:sg:dat:m2:pri:akc | ppron12:sg:dat:m2:pri:nakc | ppron12:sg:dat:m2:sec:akc | ppron12:sg:dat:m2:sec:nakc | ppron12:sg:dat:m3:pri:akc | ppron12:sg:dat:m3:pri:nakc | ppron12:sg:dat:m3:sec:akc | ppron12:sg:dat:m3:sec:nakc | ppron12:sg:dat:n:pri:akc | ppron12:sg:dat:n:pri:nakc | ppron12:sg:dat:n:sec:akc | ppron12:sg:dat:n:sec:nakc | ppron12:sg:gen:f:pri:akc | ppron12:sg:gen:f:sec:akc | ppron12:sg:gen:f:sec:nakc | ppron12:sg:gen:m1:pri:akc | ppron12:sg:gen:m1:sec:akc | ppron12:sg:gen:m1:sec:nakc | ppron12:sg:gen:m2:pri:akc | ppron12:sg:gen:m2:pri:nakc | ppron12:sg:gen:m2:sec:akc | ppron12:sg:gen:m2:sec:nakc | ppron12:sg:gen:m3:pri:akc | ppron12:sg:gen:m3:sec:akc | ppron12:sg:gen:m3:sec:nakc | ppron12:sg:gen:n:pri:akc | ppron12:sg:gen:n:sec:akc | ppron12:sg:gen:n:sec:nakc | ppron12:sg:inst:f:pri | ppron12:sg:inst:f:sec | ppron12:sg:inst:m1:pri | ppron12:sg:inst:m1:pri:nakc | ppron12:sg:inst:m1:sec | ppron12:sg:inst:m2:pri | ppron12:sg:inst:m2:sec | ppron12:sg:inst:m3:pri | ppron12:sg:inst:m3:sec | ppron12:sg:inst:n:pri | ppron12:sg:inst:n:sec | ppron12:sg:loc:f:pri | ppron12:sg:loc:f:sec | ppron12:sg:loc:m1:pri | ppron12:sg:loc:m1:sec | ppron12:sg:loc:m2:pri | ppron12:sg:loc:m2:sec | ppron12:sg:loc:m3:pri | ppron12:sg:loc:m3:sec | ppron12:sg:loc:n:pri | ppron12:sg:loc:n:sec | ppron12:sg:nom:f:pri | ppron12:sg:nom:f:sec | ppron12:sg:nom:m1:pri | ppron12:sg:nom:m1:pri:akc | ppron12:sg:nom:m1:pri:nakc | ppron12:sg:nom:m1:sec | ppron12:sg:nom:m1:sec:akc | ppron12:sg:nom:m2:pri | ppron12:sg:nom:m2:sec | ppron12:sg:nom:m3:pri | ppron12:sg:nom:m3:sec | ppron12:sg:nom:n:pri | ppron12:sg:nom:n:sec | ppron12:sg:voc:f:sec\n",
      "\n",
      "####################################################################################################\n",
      "ppron3\n",
      "####################################################################################################\n",
      "\n",
      "ppron3:pl:acc:f:ter:akc:npraep | ppron3:pl:acc:f:ter:akc:praep | ppron3:pl:acc:m1:ter:akc:npraep | ppron3:pl:acc:m1:ter:akc:praep | ppron3:pl:acc:m2:ter:akc:npraep | ppron3:pl:acc:m2:ter:akc:praep | ppron3:pl:acc:m3:ter:akc:npraep | ppron3:pl:acc:m3:ter:akc:praep | ppron3:pl:acc:n:ter:akc:npraep | ppron3:pl:acc:n:ter:akc:praep | ppron3:pl:dat:f:ter:akc:npraep | ppron3:pl:dat:f:ter:akc:praep | ppron3:pl:dat:m1:ter:akc:npraep | ppron3:pl:dat:m1:ter:akc:praep | ppron3:pl:dat:m2:ter:akc:npraep | ppron3:pl:dat:m3:ter:akc:npraep | ppron3:pl:dat:m3:ter:akc:praep | ppron3:pl:dat:n:ter:akc:npraep | ppron3:pl:dat:n:ter:akc:praep | ppron3:pl:gen:f:ter:akc:npraep | ppron3:pl:gen:f:ter:akc:praep | ppron3:pl:gen:m1:ter:akc:npraep | ppron3:pl:gen:m1:ter:akc:praep | ppron3:pl:gen:m2:ter:akc:npraep | ppron3:pl:gen:m3:ter:akc:npraep | ppron3:pl:gen:m3:ter:akc:praep | ppron3:pl:gen:n:ter:akc:npraep | ppron3:pl:gen:n:ter:akc:praep | ppron3:pl:inst:f:ter:akc:npraep | ppron3:pl:inst:f:ter:akc:praep | ppron3:pl:inst:f:ter:nakc:npraep | ppron3:pl:inst:f:ter:nakc:praep | ppron3:pl:inst:m1:ter:akc:npraep | ppron3:pl:inst:m1:ter:akc:praep | ppron3:pl:inst:m1:ter:nakc:npraep | ppron3:pl:inst:m1:ter:nakc:praep | ppron3:pl:inst:m3:ter:akc:npraep | ppron3:pl:inst:m3:ter:akc:praep | ppron3:pl:inst:m3:ter:nakc:npraep | ppron3:pl:inst:m3:ter:nakc:praep | ppron3:pl:inst:n:ter:akc:npraep | ppron3:pl:inst:n:ter:akc:praep | ppron3:pl:inst:n:ter:nakc:npraep | ppron3:pl:inst:n:ter:nakc:praep | ppron3:pl:loc:f:ter:akc:praep | ppron3:pl:loc:m1:ter:akc:praep | ppron3:pl:loc:m3:ter:akc:praep | ppron3:pl:loc:n:ter:akc:praep | ppron3:pl:nom:f:ter:akc:npraep | ppron3:pl:nom:f:ter:akc:praep | ppron3:pl:nom:m1:ter:akc:npraep | ppron3:pl:nom:m1:ter:akc:praep | ppron3:pl:nom:m2:ter:akc:npraep | ppron3:pl:nom:m2:ter:akc:praep | ppron3:pl:nom:m3:ter:akc:npraep | ppron3:pl:nom:m3:ter:akc:praep | ppron3:pl:nom:n:ter:akc:npraep | ppron3:pl:nom:n:ter:akc:praep | ppron3:sg:acc:f:ter:akc:npraep | ppron3:sg:acc:f:ter:akc:praep | ppron3:sg:acc:m1:ter:akc:npraep | ppron3:sg:acc:m1:ter:akc:praep | ppron3:sg:acc:m1:ter:nakc:npraep | ppron3:sg:acc:m1:ter:nakc:praep | ppron3:sg:acc:m2:ter:akc:npraep | ppron3:sg:acc:m2:ter:akc:praep | ppron3:sg:acc:m2:ter:nakc:npraep | ppron3:sg:acc:m2:ter:nakc:praep | ppron3:sg:acc:m3:ter:akc:npraep | ppron3:sg:acc:m3:ter:akc:praep | ppron3:sg:acc:m3:ter:nakc:npraep | ppron3:sg:acc:m3:ter:nakc:praep | ppron3:sg:acc:n:ter:akc:npraep | ppron3:sg:acc:n:ter:akc:praep | ppron3:sg:dat:f:ter:akc:npraep | ppron3:sg:dat:f:ter:akc:praep | ppron3:sg:dat:m1:ter:akc:npraep | ppron3:sg:dat:m1:ter:akc:praep | ppron3:sg:dat:m1:ter:nakc:npraep | ppron3:sg:dat:m1:ter:nakc:praep | ppron3:sg:dat:m2:ter:akc:npraep | ppron3:sg:dat:m2:ter:akc:praep | ppron3:sg:dat:m2:ter:nakc:npraep | ppron3:sg:dat:m2:ter:nakc:praep | ppron3:sg:dat:m3:ter:akc:npraep | ppron3:sg:dat:m3:ter:akc:praep | ppron3:sg:dat:m3:ter:nakc:npraep | ppron3:sg:dat:m3:ter:nakc:praep | ppron3:sg:dat:n:ter:akc:npraep | ppron3:sg:dat:n:ter:akc:praep | ppron3:sg:dat:n:ter:nakc:npraep | ppron3:sg:dat:n:ter:nakc:praep | ppron3:sg:gen:f:ter:akc:npraep | ppron3:sg:gen:f:ter:akc:praep | ppron3:sg:gen:f:ter:nakc | ppron3:sg:gen:m1:ter:akc:npraep | ppron3:sg:gen:m1:ter:akc:praep | ppron3:sg:gen:m1:ter:nakc:npraep | ppron3:sg:gen:m1:ter:nakc:praep | ppron3:sg:gen:m2:ter:akc:npraep | ppron3:sg:gen:m2:ter:akc:praep | ppron3:sg:gen:m2:ter:nakc:npraep | ppron3:sg:gen:m2:ter:nakc:praep | ppron3:sg:gen:m3:ter:akc:npraep | ppron3:sg:gen:m3:ter:akc:praep | ppron3:sg:gen:m3:ter:nakc:npraep | ppron3:sg:gen:m3:ter:nakc:praep | ppron3:sg:gen:n:ter:akc:npraep | ppron3:sg:gen:n:ter:akc:praep | ppron3:sg:gen:n:ter:nakc:npraep | ppron3:sg:inst:f:ter:akc:praep | ppron3:sg:inst:m1:ter:akc:npraep | ppron3:sg:inst:m1:ter:akc:praep | ppron3:sg:inst:m2:ter:akc:npraep | ppron3:sg:inst:m2:ter:akc:praep | ppron3:sg:inst:m3:ter:akc:npraep | ppron3:sg:inst:m3:ter:akc:praep | ppron3:sg:inst:n:ter:akc:npraep | ppron3:sg:inst:n:ter:akc:praep | ppron3:sg:loc:f:ter:akc:npraep | ppron3:sg:loc:f:ter:akc:praep | ppron3:sg:loc:m1:ter:akc:npraep | ppron3:sg:loc:m1:ter:akc:praep | ppron3:sg:loc:m2:ter:akc:npraep | ppron3:sg:loc:m2:ter:akc:praep | ppron3:sg:loc:m3:ter:akc:npraep | ppron3:sg:loc:m3:ter:akc:praep | ppron3:sg:loc:n:ter:akc:npraep | ppron3:sg:loc:n:ter:akc:praep | ppron3:sg:nom:f:ter:akc:npraep | ppron3:sg:nom:f:ter:akc:praep | ppron3:sg:nom:m1:ter:akc | ppron3:sg:nom:m1:ter:akc:npraep | ppron3:sg:nom:m1:ter:akc:praep | ppron3:sg:nom:m2:ter:akc:npraep | ppron3:sg:nom:m2:ter:akc:praep | ppron3:sg:nom:m3:ter:akc:npraep | ppron3:sg:nom:m3:ter:akc:praep | ppron3:sg:nom:n:ter | ppron3:sg:nom:n:ter:akc:npraep | ppron3:sg:nom:n:ter:akc:praep\n",
      "\n",
      "####################################################################################################\n",
      "praet\n",
      "####################################################################################################\n",
      "\n",
      "praet:pl:f:imperf | praet:pl:f:perf | praet:pl:m1:imperf | praet:pl:m1:imperf:agl | praet:pl:m1:perf | praet:pl:m2:imperf | praet:pl:m2:perf | praet:pl:m3:imperf | praet:pl:m3:perf | praet:pl:n:imperf | praet:pl:n:perf | praet:sg:f:imperf | praet:sg:f:imperf:nagl | praet:sg:f:perf | praet:sg:m1:imperf | praet:sg:m1:imperf:agl | praet:sg:m1:imperf:nagl | praet:sg:m1:perf | praet:sg:m1:perf:agl | praet:sg:m1:perf:nagl | praet:sg:m2:imperf | praet:sg:m2:imperf:agl | praet:sg:m2:imperf:nagl | praet:sg:m2:perf | praet:sg:m2:perf:agl | praet:sg:m2:perf:nagl | praet:sg:m3:imperf | praet:sg:m3:imperf:agl | praet:sg:m3:imperf:nagl | praet:sg:m3:perf | praet:sg:m3:perf:agl | praet:sg:m3:perf:nagl | praet:sg:n:imperf | praet:sg:n:perf\n",
      "\n",
      "####################################################################################################\n",
      "pred\n",
      "####################################################################################################\n",
      "\n",
      "pred:\n",
      "\n",
      "####################################################################################################\n",
      "prep\n",
      "####################################################################################################\n",
      "\n",
      "prep:acc | prep:acc:nwok | prep:acc:wok | prep:dat | prep:gen | prep:gen:nwok | prep:gen:wok | prep:inst | prep:inst:nwok | prep:inst:wok | prep:loc | prep:loc:nwok | prep:loc:wok | prep:nom\n",
      "\n",
      "####################################################################################################\n",
      "qub\n",
      "####################################################################################################\n",
      "\n",
      "qub: | qub:nwok | qub:wok\n",
      "\n",
      "####################################################################################################\n",
      "siebie\n",
      "####################################################################################################\n",
      "\n",
      "siebie:acc | siebie:dat | siebie:gen | siebie:inst | siebie:loc\n",
      "\n",
      "####################################################################################################\n",
      "subst\n",
      "####################################################################################################\n",
      "\n",
      "subst:pl:acc:f | subst:pl:acc:m1 | subst:pl:acc:m2 | subst:pl:acc:m3 | subst:pl:acc:n | subst:pl:dat:f | subst:pl:dat:m1 | subst:pl:dat:m2 | subst:pl:dat:m3 | subst:pl:dat:n | subst:pl:gen:f | subst:pl:gen:m1 | subst:pl:gen:m2 | subst:pl:gen:m3 | subst:pl:gen:n | subst:pl:inst:f | subst:pl:inst:m1 | subst:pl:inst:m2 | subst:pl:inst:m3 | subst:pl:inst:n | subst:pl:loc:f | subst:pl:loc:m1 | subst:pl:loc:m2 | subst:pl:loc:m3 | subst:pl:loc:n | subst:pl:nom:f | subst:pl:nom:m1 | subst:pl:nom:m2 | subst:pl:nom:m3 | subst:pl:nom:n | subst:pl:voc:f | subst:pl:voc:m1 | subst:pl:voc:m2 | subst:pl:voc:m3 | subst:pl:voc:n | subst:sg:acc:f | subst:sg:acc:m1 | subst:sg:acc:m2 | subst:sg:acc:m3 | subst:sg:acc:n | subst:sg:dat:f | subst:sg:dat:m1 | subst:sg:dat:m2 | subst:sg:dat:m3 | subst:sg:dat:n | subst:sg:gen:f | subst:sg:gen:m1 | subst:sg:gen:m2 | subst:sg:gen:m3 | subst:sg:gen:n | subst:sg:inst:f | subst:sg:inst:m1 | subst:sg:inst:m2 | subst:sg:inst:m3 | subst:sg:inst:n | subst:sg:loc:f | subst:sg:loc:m1 | subst:sg:loc:m2 | subst:sg:loc:m3 | subst:sg:loc:n | subst:sg:nom:f | subst:sg:nom:m1 | subst:sg:nom:m2 | subst:sg:nom:m3 | subst:sg:nom:n | subst:sg:voc:f | subst:sg:voc:m1 | subst:sg:voc:m2 | subst:sg:voc:m3 | subst:sg:voc:n\n",
      "\n",
      "####################################################################################################\n",
      "winien\n",
      "####################################################################################################\n",
      "\n",
      "winien:pl:f:imperf | winien:pl:m1:imperf | winien:pl:m2:imperf | winien:pl:m3:imperf | winien:pl:n:imperf | winien:sg:f:imperf | winien:sg:m1:imperf | winien:sg:m2:imperf | winien:sg:m3:imperf | winien:sg:n:imperf\n",
      "\n",
      "####################################################################################################\n",
      "xxx\n",
      "####################################################################################################\n",
      "\n",
      "xxx:\n"
     ]
    }
   ],
   "source": [
    "for grammar_class in grammatic_classes:\n",
    "    print('\\n' + '#'*100)\n",
    "    print(grammar_class)\n",
    "    print('#'*100 + '\\n')\n",
    "    class_tags = [t for t in unique_tags if t.split(':')[0] == grammar_class]\n",
    "    print(' | '.join(class_tags))\n"
   ]
  }
 ],
 "metadata": {
  "kernelspec": {
   "display_name": "Python 3 (ipykernel)",
   "language": "python",
   "name": "python3"
  },
  "language_info": {
   "codemirror_mode": {
    "name": "ipython",
    "version": 3
   },
   "file_extension": ".py",
   "mimetype": "text/x-python",
   "name": "python",
   "nbconvert_exporter": "python",
   "pygments_lexer": "ipython3",
   "version": "3.8.7"
  }
 },
 "nbformat": 4,
 "nbformat_minor": 5
}
